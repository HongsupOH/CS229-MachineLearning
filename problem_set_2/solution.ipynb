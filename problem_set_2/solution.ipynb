{
 "cells": [
  {
   "cell_type": "markdown",
   "metadata": {},
   "source": [
    "# Problem set 2\n",
    "## Hongsup Oh"
   ]
  },
  {
   "cell_type": "markdown",
   "metadata": {},
   "source": [
    "# Library"
   ]
  },
  {
   "cell_type": "code",
   "execution_count": 1,
   "metadata": {},
   "outputs": [],
   "source": [
    "import numpy as np\n",
    "import math\n",
    "import csv\n",
    "import json\n",
    "import collections\n",
    "from collections import defaultdict\n",
    "import pandas as pd\n",
    "from matplotlib import pyplot as plt"
   ]
  },
  {
   "cell_type": "markdown",
   "metadata": {},
   "source": [
    "# Help functions"
   ]
  },
  {
   "cell_type": "code",
   "execution_count": 2,
   "metadata": {},
   "outputs": [],
   "source": [
    "def openData(file,intercept=None):\n",
    "    f = pd.read_csv(file)\n",
    "    x = []\n",
    "    if intercept==True:\n",
    "        x.append([1.0 for x in range(len(list(f['x0'])))])\n",
    "    x.append(list(f['x0']))\n",
    "    x.append(list(f['x1']))\n",
    "    y = list(f['y'])\n",
    "    x = np.array(x)\n",
    "    x = x.T\n",
    "    y = np.array(y)\n",
    "    y = y.T\n",
    "    if 't' in f:\n",
    "        t = list(f['t'])\n",
    "        t = np.array(t)\n",
    "        t = t.T\n",
    "        return t,x,y\n",
    "    return x,y"
   ]
  },
  {
   "cell_type": "code",
   "execution_count": 3,
   "metadata": {},
   "outputs": [],
   "source": [
    "def plotData(x,y,theta,correction):\n",
    "    plt.figure(figsize=(5,5))\n",
    "    plt.plot(x[y == 1, -2], x[y == 1, -1], 'bx', linewidth=2)\n",
    "    plt.plot(x[y == 0, -2], x[y == 0, -1], 'go', linewidth=2)\n",
    "    # Plot decision boundary (found by solving for theta^T x = 0)\n",
    "    x1 = np.arange(min(x[:, -2]), max(x[:, -2]), 0.01)\n",
    "    x2 = -(theta[0] / theta[2] * correction + theta[1] / theta[2] * x1)\n",
    "    plt.plot(x1, x2, c='red', linewidth=2)\n",
    "    # Add labels and save to disk\n",
    "    plt.xlabel('x1')\n",
    "    plt.ylabel('x2')\n",
    "    plt.grid()"
   ]
  },
  {
   "cell_type": "code",
   "execution_count": 4,
   "metadata": {},
   "outputs": [],
   "source": [
    "def plot_contour(predict_fn):\n",
    "    x, y = np.meshgrid(np.linspace(-10, 10, num=20), np.linspace(-10, 10, num=20))\n",
    "    z = np.zeros(x.shape)\n",
    "\n",
    "    for i in range(x.shape[0]):\n",
    "        for j in range(y.shape[1]):\n",
    "            z[i, j] = predict_fn([x[i, j], y[i, j]])\n",
    "\n",
    "    plt.contourf(x, y, z, levels=[-float('inf'), 0, float('inf')], colors=['orange', 'cyan'])"
   ]
  },
  {
   "cell_type": "code",
   "execution_count": 5,
   "metadata": {},
   "outputs": [],
   "source": [
    "def plot_points(x,y):\n",
    "    x_one = x[y == 0, :]\n",
    "    x_two = x[y == 1, :]\n",
    "    \n",
    "    plt.scatter(x_one[:,0], x_one[:,1], marker='x', color='red')\n",
    "    plt.scatter(x_two[:,0], x_two[:,1], marker='o', color='blue')"
   ]
  },
  {
   "cell_type": "code",
   "execution_count": 6,
   "metadata": {},
   "outputs": [],
   "source": [
    "def load_spam_dataset(tsv_path):\n",
    "\n",
    "    messages = []\n",
    "    labels = []\n",
    "\n",
    "    with open(tsv_path, 'r', newline='', encoding='utf8') as tsv_file:\n",
    "        reader = csv.reader(tsv_file, delimiter='\\t')\n",
    "\n",
    "        for label, message in reader:\n",
    "            messages.append(message)\n",
    "            labels.append(1 if label == 'spam' else 0)\n",
    "\n",
    "    return messages, np.array(labels)"
   ]
  },
  {
   "cell_type": "code",
   "execution_count": 7,
   "metadata": {},
   "outputs": [],
   "source": [
    "def write_json(filename, value):\n",
    "    \"\"\"Write the provided value as JSON to the given filename\"\"\"\n",
    "    with open(filename, 'w') as f:\n",
    "        json.dump(value, f)"
   ]
  },
  {
   "cell_type": "markdown",
   "metadata": {},
   "source": [
    "# 1. Logistic Regression"
   ]
  },
  {
   "cell_type": "code",
   "execution_count": 12,
   "metadata": {},
   "outputs": [],
   "source": [
    "def calc_grad(X,Y,theta):\n",
    "    m,n = X.shape\n",
    "    margins = Y*X.dot(theta)\n",
    "    probs = 1/(1+np.exp(margins))\n",
    "    grad = -(1/m)*(X.T.dot(probs*Y))+(0.05/m)*np.linalg.norm(theta)\n",
    "    return grad\n",
    "\n",
    "def logistic_regression(X,Y):\n",
    "    m,n = X.shape\n",
    "    theta = np.zeros(n)\n",
    "    i = 1\n",
    "    learning_rate = 1\n",
    "    while True:\n",
    "        i+=1\n",
    "        prev_theta = theta\n",
    "        grad = calc_grad(X,Y,theta)\n",
    "        #print(np.linalg.norm(theta))\n",
    "        theta = theta - learning_rate*grad\n",
    "        if i%10000 == 0:\n",
    "            DEBUG = False\n",
    "            if DEBUG:\n",
    "                Y = (Y == 1).astype(np.float)\n",
    "                plotData(X, (Y == 1), theta, 'output/{}.png'.format(i))\n",
    "            print('Finished %d iterations' % i)\n",
    "            print(np.linalg.norm(prev_theta - theta))\n",
    "        if np.linalg.norm(prev_theta - theta) < 1e-15:\n",
    "            print('Converged in %d interations' % i)\n",
    "            break\n",
    "    return theta\n",
    "\n",
    "def main():\n",
    "    DEBUG = False\n",
    "    if DEBUG:\n",
    "        plt.figure()\n",
    "        path_a = 'data/ds1_a.csv'\n",
    "        Xa,Ya = openData(path_a,intercept=False)\n",
    "        Ya = (Ya == 1).astype(np.float)\n",
    "        plot_points(Xa,Ya)\n",
    "        \n",
    "        plt.figure()\n",
    "        path_b = 'data/ds1_b.csv'\n",
    "        Xb,Yb = openData(path_b,intercept=False)\n",
    "        Yb = (Yb == 1).astype(np.float)\n",
    "        plot_points(Xb,Yb)\n",
    "        plt.show()\n",
    "        import sys\n",
    "        sys.exit()\n",
    "        \n",
    "    print('==== Training model on data set A ====')\n",
    "    path_a = 'data/ds1_a.csv'\n",
    "    Xa,Ya = openData(path_a,intercept=True)\n",
    "    theta = logistic_regression(Xa, Ya)\n",
    "    plotData(Xa, (Ya == 1), theta,1)\n",
    "    \n",
    "    print('\\n==== Training model on data set B ====')\n",
    "    path_b = 'data/ds1_b.csv'\n",
    "    Xb,Yb = openData(path_b,intercept=True)\n",
    "    theta = logistic_regression(Xb, Yb)\n",
    "    plotData(Xb, (Yb == 1), theta,1)\n",
    "                "
   ]
  },
  {
   "cell_type": "code",
   "execution_count": 13,
   "metadata": {},
   "outputs": [
    {
     "name": "stdout",
     "output_type": "stream",
     "text": [
      "==== Training model on data set A ====\n",
      "Finished 10000 iterations\n",
      "3.462451190770352e-07\n",
      "Finished 20000 iterations\n",
      "1.7561151579607395e-11\n",
      "Converged in 29397 interations\n",
      "\n",
      "==== Training model on data set B ====\n",
      "Finished 10000 iterations\n",
      "2.5087134225542187e-06\n",
      "Finished 20000 iterations\n",
      "1.0885851292593219e-09\n",
      "Finished 30000 iterations\n",
      "4.729681433408944e-13\n",
      "Converged in 37346 interations\n"
     ]
    },
    {
     "data": {
      "image/png": "[encoded data removed]",
      "text/plain": [
       "<Figure size 360x360 with 1 Axes>"
      ]
     },
     "metadata": {
      "needs_background": "light"
     },
     "output_type": "display_data"
    },
    {
     "data": {
      "image/png": "[encoded data removed]",
      "text/plain": [
       "<Figure size 360x360 with 1 Axes>"
      ]
     },
     "metadata": {
      "needs_background": "light"
     },
     "output_type": "display_data"
    }
   ],
   "source": [
    "main()"
   ]
  },
  {
   "cell_type": "markdown",
   "metadata": {},
   "source": [
    "## a. "
   ]
  },
  {
   "cell_type": "markdown",
   "metadata": {},
   "source": [
    "Training dataset A is finished within few iterations but dataset B is not converged"
   ]
  },
  {
   "cell_type": "markdown",
   "metadata": {},
   "source": [
    "## b. "
   ]
  },
  {
   "cell_type": "code",
   "execution_count": 14,
   "metadata": {},
   "outputs": [
    {
     "data": {
      "text/plain": [
       "Text(0.5, 1.0, 'Dataset A')"
      ]
     },
     "execution_count": 14,
     "metadata": {},
     "output_type": "execute_result"
    },
    {
     "data": {
      "image/png": "[encoded data removed]",
      "text/plain": [
       "<Figure size 432x288 with 1 Axes>"
      ]
     },
     "metadata": {
      "needs_background": "light"
     },
     "output_type": "display_data"
    }
   ],
   "source": [
    "plt.figure()\n",
    "path_a = 'data/ds1_a.csv'\n",
    "Xa,Ya = openData(path_a,intercept=False)\n",
    "Ya = (Ya == 1).astype(np.float)\n",
    "plot_points(Xa,Ya)\n",
    "plt.title(\"Dataset A\")"
   ]
  },
  {
   "cell_type": "code",
   "execution_count": 15,
   "metadata": {},
   "outputs": [
    {
     "data": {
      "text/plain": [
       "Text(0.5, 1.0, 'Dataset B')"
      ]
     },
     "execution_count": 15,
     "metadata": {},
     "output_type": "execute_result"
    },
    {
     "data": {
      "image/png": "[encoded data removed]",
      "text/plain": [
       "<Figure size 432x288 with 1 Axes>"
      ]
     },
     "metadata": {
      "needs_background": "light"
     },
     "output_type": "display_data"
    }
   ],
   "source": [
    "plt.figure()\n",
    "path_b = 'data/ds1_b.csv'\n",
    "Xb,Yb = openData(path_b,intercept=False)\n",
    "Yb = (Yb == 1).astype(np.float)\n",
    "plot_points(Xb,Yb)\n",
    "plt.title(\"Dataset B\")"
   ]
  },
  {
   "cell_type": "markdown",
   "metadata": {},
   "source": [
    "Unlike dateset A, Dataset B can be linearly seperable\n",
    "$L(\\theta)= \\prod_{i=1}^m p(y^{(i)}|x^{(i)};\\theta)=\\frac{1}{1+e^{-y^{(i)}\\theta^Tx^{(i)}}}$\n",
    "If the dataset can be linearly sepearble, then some dataset $\\theta,y^{(i)}\\theta^Tx^{(i)}$ is always positive.\n",
    "<br>\n",
    "In this case, we can muliply $\\theta$ by a larger scalar to get larger $L(\\theta)$\n",
    "However, when the dataset is not linearly separable, it is not the case."
   ]
  },
  {
   "cell_type": "markdown",
   "metadata": {},
   "source": [
    "## c. "
   ]
  },
  {
   "cell_type": "markdown",
   "metadata": {},
   "source": [
    "### i. Using a different constant learning rate.\n",
    "Answer: No. $L(\\theta)$ will be arbitrary large\n",
    "<br>\n",
    "### ii. Decreasing the learning rate over time\n",
    "Answer: Yes. If the learning rate is sufficiently small, updated $\\theta$ will be small, so it will judged to be converged\n",
    "<br>\n",
    "### iii. Linear scaling of the input features \n",
    "Answer: No. dataset still be in linearly seperable\n",
    "### iv. Adding a regularization term $|\\theta|_{2}^2 $ to the loss function\n",
    "Answer: Yes. It will very likely make the dataset not linearly seperable\n",
    "<br>\n",
    "### v. Adding zero-mean Gaussian noise to the training data or labels.\n",
    "Answer: Yes. It will make the dataset not linearly seperable"
   ]
  },
  {
   "cell_type": "markdown",
   "metadata": {},
   "source": [
    "# 2. Model calibration"
   ]
  },
  {
   "cell_type": "markdown",
   "metadata": {},
   "source": [
    "## a."
   ]
  },
  {
   "cell_type": "markdown",
   "metadata": {},
   "source": [
    "### problem\n",
    "\\begin{align}\n",
    "\\frac{\\sum_{i \\in I_{a,b}}P(y^{(i)}=1|x^{(i)};\\theta)}{|i \\in I_{a,b}|} = \\frac{\\sum_{i \\in I_{a,b}} I(y^{(i)}=1)}{|i \\in I_{a,b}|}\\\\\n",
    "\\text{That is, prove } \\sum_{i \\in I_{a,b}}h_{\\theta}(x^{(i)}) = \\sum_{i \\in I_{a,b}} y^{(i)}\\\\\n",
    "\\text{where }h_{\\theta}(x^{(i)}) = \\frac{1}{1+\\exp{-\\theta^Tx}}\\\\\n",
    "\\end{align}\n",
    "### prove\n",
    "\\begin{align}\n",
    "\\frac{\\partial}{\\partial \\theta} l(\\theta) = x^T(y-g(\\theta^Tx))\\\\\n",
    "\\text{For best $\\theta$, set }\\frac{\\partial}{\\partial \\theta} l(\\theta) = 0\\\\\n",
    "x^T(y-g(\\theta^Tx)) = 0\\\\\n",
    "x^Ty = x^T h_{\\theta}(x)\\\\\n",
    "\\text{If we only consider intercept row}\\\\\n",
    "\\sum_{i}y^{(i)} = \\sum_{i}h_{\\theta}(x^{(i)})\\\\\n",
    "\\end{align}"
   ]
  },
  {
   "cell_type": "markdown",
   "metadata": {},
   "source": [
    "## b."
   ]
  },
  {
   "cell_type": "markdown",
   "metadata": {},
   "source": [
    "Formally, a model is perfectly calibrated if, for any probability value p, a prediction of a class with confidence p is correct 100xP.\n",
    "<br>\n",
    "ANSWER:\n",
    "<br>\n",
    "Both the answer are no. Suppose 50% of the data is positive, then a model which\n",
    "always outputs 0.5 will also be perfectly calibrated. On the other hand, a model that outputs\n",
    "0.75 for positive examples and 0.25 for negative examples will have perfect accuracy, but is not\n",
    "perfectly-calibrated"
   ]
  },
  {
   "cell_type": "markdown",
   "metadata": {},
   "source": [
    "## c."
   ]
  },
  {
   "cell_type": "markdown",
   "metadata": {},
   "source": [
    "When a regulization $\\lambda|\\theta|$ is added, the equation at (a) becomes\n",
    "<br>\n",
    "$$ \\sum_{i=1}^m y^{(i)} = \\sum_{i=1}^m h_{\\theta}(x^{(i)})+2\\lambda\\theta_0$$\n",
    "Where $\\theta_0$ is the parameter for the intercept which is not penalized. In this case regularization have no effect."
   ]
  },
  {
   "cell_type": "markdown",
   "metadata": {},
   "source": [
    "# 3. Bayesian Interpretation of Regularization"
   ]
  },
  {
   "cell_type": "markdown",
   "metadata": {},
   "source": [
    "## a."
   ]
  },
  {
   "cell_type": "markdown",
   "metadata": {},
   "source": [
    "### Prove\n",
    "\\begin{align}\n",
    "\\theta_{MAP} = argmax_{\\theta}p(y|x,\\theta)p(\\theta)\\\\\n",
    "\\text{we assume that $p(\\theta) = p(\\theta|x)$}\n",
    "\\end{align}\n",
    "### Solve\n",
    "\\begin{align}\n",
    "\\theta_{MAP} = argmax_{\\theta}p(\\theta|x,y)\\\\\n",
    "= argmax_{\\theta} p(x,y|\\theta)p(\\theta)\\\\\n",
    "= argmax_{\\theta} p(y|\\theta)p(x|\\theta)p(\\theta)\\\\\n",
    "\\text{where, $p(x|\\theta)p(\\theta) = p(\\theta|x) = p(\\theta)$}\\\\\n",
    "\\text{Thus, } \\theta_{MAP}argmax_{\\theta}p(y|x,\\theta)p(\\theta)\n",
    "\\end{align}"
   ]
  },
  {
   "cell_type": "markdown",
   "metadata": {},
   "source": [
    "## b."
   ]
  },
  {
   "cell_type": "markdown",
   "metadata": {},
   "source": [
    "### Prove\n",
    "\\begin{align}\n",
    "\\theta_{MAP} = argmin_{\\theta} -log(p(y|x,\\theta)) + \\lambda |\\theta|_{2}^2\\\\\n",
    "\\theta \\rightarrow N(0,\\eta^2I)\\\\\n",
    "\\end{align}\n",
    "### Solve\n",
    "\\begin{align}\n",
    "\\theta_{MAP} = -argmin_{\\theta} log(p(\\theta|x,y))\\\\\n",
    "= -argmin_{\\theta} log(p(y|\\theta)p(\\theta))\\\\\n",
    "= -argmin_{\\theta}log(p(y|\\theta)) - argmin_{\\theta} log(p(\\theta))\\\\\n",
    "= argmin_{\\theta}-log(p(y|\\theta)) - argmin_{\\theta} log(\\frac{1}{\\sqrt{2\\pi(\\eta^2I)}} \\exp(-\\frac{1}{2}\\theta^T(\\eta^2I)^{-1}\\theta))\\\\\n",
    "= argmin_{\\theta}-log(p(y|\\theta)) + argmin_{\\theta}\\frac{1}{2}\\theta^T(\\eta^2I)^{-1}\\theta)\\\\\n",
    "= argmin_{\\theta}-log(p(y|\\theta)) + \\frac{1}{2\\eta^2}|\\theta|_{2}^2\\\\\n",
    "\\text{Thus, } \\lambda = \\frac{1}{2\\eta^2}\\\\\n",
    "\\end{align}"
   ]
  },
  {
   "cell_type": "markdown",
   "metadata": {},
   "source": [
    "## c."
   ]
  },
  {
   "cell_type": "markdown",
   "metadata": {},
   "source": [
    "### problem\n",
    "\\begin{align}\n",
    "y = \\theta^TX + \\epsilon\\\\\n",
    "\\epsilon \\rightarrow N(0,\\sigma^2)\\\\\n",
    "\\theta \\rightarrow N(0,\\eta^2I)\\\\\n",
    "\\text{get $\\theta$}\n",
    "\\end{align}\n",
    "### solve\n",
    "\\begin{align}\n",
    "\\theta_{MAP} = argmax_{\\theta} P(y|x,\\theta)P(\\theta)\\\\\n",
    "\\theta_{MAP} = argmax_{\\theta} \\log(P(y|x,\\theta)) + \\log(P(\\theta))\\\\\n",
    "\\theta_{MAP} = argmax_{\\theta} \\log(\\frac{1}{\\sqrt{2\\pi\\sigma^2}}\\exp(-\\frac{1}{2\\sigma^2}(\\theta^TX - y)^T(\\theta^TX - y))) + \\log(\\frac{1}{\\sqrt{2\\pi\\eta^2}}\\exp(-\\frac{1}{2\\eta^2}\\theta^T\\theta))\\\\\n",
    "\\theta_{MAP} = argmax_{\\theta} -\\frac{1}{2\\sigma^2}(\\theta^TX - y)^T(\\theta^TX - y) + \\frac{1}{2\\eta^2}\\theta^T\\theta\\\\\n",
    "\\theta_{MAP} = argmax_{\\theta} -\\frac{1}{2\\sigma^2}(X^T\\theta\\theta^TX - X^T\\theta y - y^T\\theta^T X +y^Ty) + \\frac{1}{2\\eta^2}\\theta^T\\theta\\\\\n",
    "\\nabla_{\\theta} (-\\frac{1}{2\\sigma^2}(X^T\\theta\\theta^TX - X^T\\theta y - y^T\\theta^T X +y^Ty) + \\frac{1}{2\\eta^2}\\theta^T\\theta) = 0\\\\\n",
    "-\\frac{1}{\\sigma^2}(x^T\\theta x- x^Ty) + \\frac{1}{\\eta^2}\\theta = 0\\\\\n",
    "\\theta = (\\frac{1}{\\sigma^2}x^Tx + \\frac{1}{\\eta^2})^{-1}\\frac{1}{\\sigma^2}x^Ty\\\\\n",
    "\\text{Thus, } \\theta = (x^Tx + \\frac{\\sigma^2}{\\eta^2})^{-1}x^Ty\\\\\n",
    "\\end{align}"
   ]
  },
  {
   "cell_type": "markdown",
   "metadata": {},
   "source": [
    "## d."
   ]
  },
  {
   "cell_type": "markdown",
   "metadata": {},
   "source": [
    "### Problem\n",
    "\\begin{align}\n",
    "\\text{Laplace distribution is given, $f_{L}(z|\\mu,b) = \\frac{1}{2b}\\exp(-\\frac{|z-\\mu|}{b}) $}\\\\ \n",
    "y = x^T\\theta + \\epsilon\\\\\n",
    "\\epsilon \\rightarrow N(0,\\sigma^2)\\\\\n",
    "\\theta \\rightarrow L(0,bI)\\\\\n",
    "J(\\theta) = |X\\theta - y|_{2}^2 + \\gamma|\\theta|_1\\\\\n",
    "\\text{What is $\\gamma$?}\\\\\n",
    "\\end{align}\n",
    "### Prove\n",
    "\\begin{align}\n",
    "\\theta_{MAP} = -argmin_{\\theta} P(y|x,\\theta)P(\\theta)\\\\\n",
    "\\theta_{MAP} = argmin_{\\theta} -\\log(P(y|x,\\theta)) - \\log(P(\\theta))\\\\\n",
    "\\theta_{MAP} = argmin_{\\theta} -\\log(P(y|x,\\theta)) - \\log(\\frac{1}{2b}\\exp(-\\frac{|\\theta|}{b}))\\\\\n",
    "\\theta_{MAP} = argmin_{\\theta} -\\log(P(y|x,\\theta)) +\\frac{|\\theta|}{b}\\\\\n",
    "\\theta_{MAP} = argmin_{\\theta} -(\\theta^Tx - y)^T(\\theta^Tx - y) +\\frac{|\\theta|}{b}\\\\\n",
    "\\theta_{MAP} = argmin_{\\theta} -|X\\theta - y|_{2}^2 +\\frac{|\\theta|}{b}\\\\\n",
    "\\text{Thus, $\\gamma = \\frac{1}{b}$}\\\\\n",
    "\\end{align}"
   ]
  },
  {
   "cell_type": "markdown",
   "metadata": {},
   "source": [
    "# 4. Constructing Kernels"
   ]
  },
  {
   "cell_type": "markdown",
   "metadata": {},
   "source": [
    "## a."
   ]
  },
  {
   "cell_type": "markdown",
   "metadata": {},
   "source": [
    "### Problem\n",
    "\\begin{align}\n",
    "K(x,z) = K_{1}(x,z) + K_{2}(x,z)\\\\\n",
    "\\end{align}\n",
    "### (1). Symmetric\n",
    "\\begin{align}\n",
    "K_{1}(x,z) = \\phi_{1}(x)^T\\phi_{1}(z) = \\phi_{1}(z)^T\\phi_{1}(x)\\\\\n",
    "K_{2}(x,z) = \\phi_{2}(x)^T\\phi_{2}(z) = \\phi_{2}(z)^T\\phi_{2}(x)\\\\\n",
    "\\text{Thus, $K_{ij} = K_{ji}$}\\\\\n",
    "\\end{align}\n",
    "### (2). Semi postivie definite\n",
    "\\begin{align}\n",
    "z^TKz = \\sum_{i}\\sum_{j} z_{i}K_{ij}z_{j}\\\\\n",
    "=\\sum_{i}\\sum_{j} z_{i}(K_{1ij} + K_{2ij})z_{j}\\\\\n",
    "=\\sum_{i}\\sum_{j} z_{i}\\phi_{1}(x^{i})^T\\phi_{1}(x^{j})z_{j} + z_{i}\\phi_{2}(x^{i})^T\\phi_{2}(x^{j}) z_{j}\\\\\n",
    "=\\sum_{i}\\sum_{j}z_{i}(\\sum_{k}\\phi_{1k}(x^{i})\\phi_{1k}(x^{j})+ \\phi_{2k}(x^{i})\\phi_{2k}(x^{j}))z_{j}\\\\\n",
    "=\\sum_{k}\\sum_{i}\\sum_{j}z_{i}\\phi_{1k}(x^{i})\\phi_{1k}(x^{j})z_{j} + z_{i}\\phi_{2k}(x^{i})\\phi_{2k}(x^{j})z_{j}\\\\\n",
    "=\\sum_{k}(\\sum_{i}z_{i}\\phi_{1k}(x^i))^2+(\\sum_{i}z_{i}\\phi_{2k}(x^i))^2 \\geq 0\\\\\n",
    "\\text{Thus, it is a kernel}\\\\\n",
    "\\end{align}"
   ]
  },
  {
   "cell_type": "markdown",
   "metadata": {},
   "source": [
    "## b."
   ]
  },
  {
   "cell_type": "markdown",
   "metadata": {},
   "source": [
    "### Problem\n",
    "\\begin{align}\n",
    "K(x,z) = K_{1}(x,z) - K_{2}(x,z)\\\\\n",
    "\\end{align}\n",
    "### (1). Symmetric\n",
    "\\begin{align}\n",
    "K_{1}(x,z) = \\phi_{1}(x)^T\\phi_{1}(z) = \\phi_{1}(z)^T\\phi_{1}(x)\\\\\n",
    "K_{2}(x,z) = \\phi_{2}(x)^T\\phi_{2}(z) = \\phi_{2}(z)^T\\phi_{2}(x)\\\\\n",
    "\\text{Thus, $K_{ij} = K_{ji}$}\\\\\n",
    "\\end{align}\n",
    "### (2). Semi postivie definite\n",
    "\\begin{align}\n",
    "z^TKz = \\sum_{i}\\sum_{j} z_{i}K_{ij}z_{j}\\\\\n",
    "=\\sum_{i}\\sum_{j} z_{i}(K_{1ij} - K_{2ij})z_{j}\\\\\n",
    "=\\sum_{i}\\sum_{j} z_{i}\\phi_{1}(x^{i})^T\\phi_{1}(x^{j})z_{j} - z_{i}\\phi_{2}(x^{i})^T\\phi_{2}(x^{j}) z_{j}\\\\\n",
    "=\\sum_{i}\\sum_{j}z_{i}(\\sum_{k}\\phi_{1k}(x^{i})\\phi_{1k}(x^{j})- \\phi_{2k}(x^{i})\\phi_{2k}(x^{j}))z_{j}\\\\\n",
    "=\\sum_{k}\\sum_{i}\\sum_{j}z_{i}\\phi_{1k}(x^{i})\\phi_{1k}(x^{j})z_{j} - z_{i}\\phi_{2k}(x^{i})\\phi_{2k}(x^{j})z_{j}\\\\\n",
    "=\\sum_{k}(\\sum_{i}z_{i}\\phi_{1k}(x^i))^2-(\\sum_{i}z_{i}\\phi_{2k}(x^i))^2\\\\\n",
    "\\text{if $(\\sum_{i}z_{i}\\phi_{1k}(x^i))^2\\leq(\\sum_{i}z_{i}\\phi_{2k}(x^i))^2$, then $z^TKz \\leq 0$}\\\\\n",
    "\\text{Thus, it is not a kernel}\\\\\n",
    "\\end{align}"
   ]
  },
  {
   "cell_type": "markdown",
   "metadata": {},
   "source": [
    "## c."
   ]
  },
  {
   "cell_type": "markdown",
   "metadata": {},
   "source": [
    "### Problem\n",
    "\\begin{align}\n",
    "K(x,z) = \\alpha K_{1}(x,z)\\\\\n",
    "\\alpha \\in R^+\\\\\n",
    "\\end{align}\n",
    "### (1). Symmetric\n",
    "\\begin{align}\n",
    "\\alpha K_{1}(x,z) = \\alpha \\phi_{1}(x)^T\\phi_{1}(z) = \\alpha \\phi_{1}(z)^T\\phi_{1}(x)\\\\\n",
    "\\text{Thus, $K_{ij} = K_{ji}$}\\\\\n",
    "\\end{align}\n",
    "### (2). Semi postivie definite\n",
    "\\begin{align}\n",
    "z^TKz = \\sum_{i}\\sum_{j} z_{i}K_{ij}z_{j}\\\\\n",
    "=\\sum_{i}\\sum_{j} z_{i}(\\alpha K_{1ij})z_{j}\\\\\n",
    "=\\alpha\\sum_{i}\\sum_{j} z_{i}\\phi_{1}(x^{i})^T\\phi_{1}(x^{j})z_{j}\\\\\n",
    "=\\alpha\\sum_{i}\\sum_{j}z_{i}(\\sum_{k}\\phi_{1k}(x^{i})\\phi_{1k}(x^{j}))z_{j}\\\\\n",
    "=\\alpha\\sum_{k}\\sum_{i}\\sum_{j}z_{i}\\phi_{1k}(x^{i})\\phi_{1k}(x^{j})z_{j}\\\\\n",
    "=\\alpha\\sum_{k}(\\sum_{i}z_{i}\\phi_{1k}(x^i))^2 \\geq 0\\\\\n",
    "\\text{Thus, it is a kernel}\\\\\n",
    "\\end{align}"
   ]
  },
  {
   "cell_type": "markdown",
   "metadata": {},
   "source": [
    "## d."
   ]
  },
  {
   "cell_type": "markdown",
   "metadata": {},
   "source": [
    "### Problem\n",
    "\\begin{align}\n",
    "K(x,z) = -\\alpha K_{1}(x,z)\\\\\n",
    "\\alpha \\in R^+\\\\\n",
    "\\end{align}\n",
    "### (1). Symmetric\n",
    "\\begin{align}\n",
    "-\\alpha K_{1}(x,z) = -\\alpha \\phi_{1}(x)^T\\phi_{1}(z) = -\\alpha \\phi_{1}(z)^T\\phi_{1}(x)\\\\\n",
    "\\text{Thus, $K_{ij} = K_{ji}$}\\\\\n",
    "\\end{align}\n",
    "### (2). Semi postivie definite\n",
    "\\begin{align}\n",
    "z^TKz = \\sum_{i}\\sum_{j} z_{i}K_{ij}z_{j}\\\\\n",
    "=\\sum_{i}\\sum_{j} z_{i}(-\\alpha K_{1ij})z_{j}\\\\\n",
    "=-\\alpha\\sum_{i}\\sum_{j} z_{i}\\phi_{1}(x^{i})^T\\phi_{1}(x^{j})z_{j}\\\\\n",
    "=-\\alpha\\sum_{i}\\sum_{j}z_{i}(\\sum_{k}\\phi_{1k}(x^{i})\\phi_{1k}(x^{j}))z_{j}\\\\\n",
    "=-\\alpha\\sum_{k}\\sum_{i}\\sum_{j}z_{i}\\phi_{1k}(x^{i})\\phi_{1k}(x^{j})z_{j}\\\\\n",
    "=-\\alpha\\sum_{k}(\\sum_{i}z_{i}\\phi_{1k}(x^i))^2 < 0\\\\\n",
    "\\text{Thus, it is not a kernel}\\\\\n",
    "\\end{align}"
   ]
  },
  {
   "cell_type": "markdown",
   "metadata": {},
   "source": [
    "## e."
   ]
  },
  {
   "cell_type": "markdown",
   "metadata": {},
   "source": [
    "### Problem\n",
    "\\begin{align}\n",
    "K(x,z) = K_{1}(x,z)K_{2}(x,z)\\\\\n",
    "\\end{align}\n",
    "### (1). Symmetric\n",
    "\\begin{align}\n",
    "K_{1}(x,z) = \\phi_{1}(x)^T\\phi_{1}(z) = \\phi_{1}(z)^T\\phi_{1}(x)\\\\\n",
    "K_{2}(x,z) = \\phi_{2}(x)^T\\phi_{2}(z) = \\phi_{2}(z)^T\\phi_{2}(x)\\\\\n",
    "\\text{Thus, $K_{ij} = K_{ji}$}\\\\\n",
    "\\end{align}\n",
    "### (2). Semi postivie definite\n",
    "\\begin{align}\n",
    "z^TKz = \\sum_{i}\\sum_{j} z_{i}K_{ij}z_{j}\\\\\n",
    "=\\sum_{i}\\sum_{j} z_{i}(K_{1ij}K_{2ij})z_{j}\\\\\n",
    "=\\sum_{i}\\sum_{j} z_{i}\\phi_{1}(x^{i})^T\\phi_{1}(x^{j})\\phi_{2}(x^{i})^T\\phi_{2}(x^{j}) z_{j}\\\\\n",
    "=\\sum_{i}\\sum_{j}z_{i}(\\sum_{k}\\phi_{1k}(x^{i})\\phi_{1k}(x^{j})\\sum_{p} \\phi_{2p}(x^{i})\\phi_{2p}(x^{j}))z_{j}\\\\\n",
    "=\\sum_{k}\\sum_{p}(\\sum_{i}z_{i}\\phi_{1k}(x^{i})\\phi_{2p}(x^{i}))(\\sum_{j}z_{j}\\phi_{1k}(x^{j})\\phi_{2p}(x^{j}))\\\\\n",
    "=\\sum_{k}\\sum_{p}(\\sum_{i}z_{i}\\phi_{1k}(x^i)\\phi_{2k}(x^i))^2 \\geq 0\\\\\n",
    "\\text{Thus, it is a kernel}\\\\\n",
    "\\end{align}"
   ]
  },
  {
   "cell_type": "markdown",
   "metadata": {},
   "source": [
    "## f."
   ]
  },
  {
   "cell_type": "markdown",
   "metadata": {},
   "source": [
    "### Problem\n",
    "\\begin{align}\n",
    "K(x,z) = f(x)f(z)\\\\\n",
    "f: R^n \\rightarrow R\\\\\n",
    "\\end{align}\n",
    "### (1). Symmetric\n",
    "\\begin{align}\n",
    "K(x,z) = f(x)^Tf(z) = f(z)^Tf(x)\\\\\n",
    "\\text{Thus, $K_{ij} = K_{ji}$}\\\\\n",
    "\\end{align}\n",
    "### (2). Semi postivie definite\n",
    "\\begin{align}\n",
    "z^TKz = \\sum_{i}\\sum_{j} z_{i}K_{ij}z_{j}\\\\\n",
    "=\\sum_{i}\\sum_{j} z_{i}(f(x^i)^Tf(x^j))z_{j}\\\\\n",
    "=\\sum_{i}\\sum_{j}z_{i}(\\sum_{k}f_{k}(x^{i})f_{k}(x^{j}))z_{j}\\\\\n",
    "=\\sum_{k}\\sum_{i}\\sum_{j}z_{i}f_{k}(x^{i})f_{fk}(x^{j})z_{j}\\\\\n",
    "=\\sum_{k}(\\sum_{i}z_{i}f_{k}(x^i))^2 \\geq 0\\\\\n",
    "\\text{Thus, it is a kernel}\\\\\n",
    "\\end{align}"
   ]
  },
  {
   "cell_type": "markdown",
   "metadata": {},
   "source": [
    "## g."
   ]
  },
  {
   "cell_type": "markdown",
   "metadata": {},
   "source": [
    "### Problem\n",
    "\\begin{align}\n",
    "K(x,z) = K_{3}(\\phi(x),\\phi(z))\\\\\n",
    "\\end{align}\n",
    "### (1). Symmetric\n",
    "\\begin{align}\n",
    "K_{3}(x,z) = \\phi_{3}(\\phi(x))^T\\phi_{3}(\\phi(z)) = \\phi_{3}(\\phi(z))^T\\phi_{3}(\\phi(x))\\\\\n",
    "\\text{Thus, $K_{ij} = K_{ji}$}\\\\\n",
    "\\end{align}\n",
    "### (2). Semi postivie definite\n",
    "\\begin{align}\n",
    "z^TKz = \\sum_{i}\\sum_{j} z_{i}K_{ij}z_{j}\\\\\n",
    "=\\sum_{i}\\sum_{j} z_{i}K_{3ij}z_{j}\\\\\n",
    "=\\sum_{i}\\sum_{j} z_{i}\\phi_{3}(\\phi(x^{i}))^T\\phi_{3}(\\phi(x^{j}))z_{j}\\\\\n",
    "=\\sum_{i}\\sum_{j}z_{i}(\\sum_{k}\\phi_{3k}(\\phi(x^{i}))\\phi_{3k}(\\phi(x^{j})))z_{j}\\\\\n",
    "=\\sum_{k}\\sum_{i}\\sum_{j}z_{i}\\phi_{3k}(\\phi(x^{i}))\\phi_{3k}(\\phi(x^{j}))z_{j}\\\\\n",
    "=\\sum_{k}(\\sum_{i}z_{i}\\phi_{3k}(\\phi(x^i)))^2 \\geq 0\\\\\n",
    "\\text{Thus, it is a kernel}\\\\\n",
    "\\end{align}"
   ]
  },
  {
   "cell_type": "markdown",
   "metadata": {},
   "source": [
    "## h."
   ]
  },
  {
   "cell_type": "markdown",
   "metadata": {},
   "source": [
    "### Problem\n",
    "\\begin{align}\n",
    "K(x,z) = p(K_{1}(x,z))\\\\\n",
    "\\text{p(x): a polynomial over x with positive coefficient}\\\\\n",
    "\\end{align}\n",
    "### (1). Symmetric\n",
    "\\begin{align}\n",
    "K_{1}(x,z) = \\phi_{1}(x)^T\\phi_{1}(z) = \\phi_{1}(z)^T\\phi_{1}(x)\\\\\n",
    "p(K_{1}(x,z))=p(K_{1}(z,x))\\\\\n",
    "\\text{Thus, $K_{ij} = K_{ji}$}\\\\\n",
    "\\end{align}\n",
    "### (2). Semi postivie definite\n",
    "\\begin{align}\n",
    "z^TKz = \\sum_{i}\\sum_{j} z_{i}K_{ij}z_{j}\\\\\n",
    "=\\sum_{i}\\sum_{j} z_{i}p(K_{1ij})z_{j}\\\\\n",
    "=\\sum_{l=0}^k a_l\\sum_{i}\\sum_{j}z_{i}K_{1ij}^lz_{j}\\\\\n",
    "=\\sum_{l=0}^k a_{l}z^TK_{1}^lz\n",
    "\\text{Thus, it is a kernel}\\\\\n",
    "\\end{align}"
   ]
  },
  {
   "cell_type": "markdown",
   "metadata": {},
   "source": [
    "# 5. Kernelizing the Perceptron"
   ]
  },
  {
   "cell_type": "markdown",
   "metadata": {},
   "source": [
    "## a."
   ]
  },
  {
   "cell_type": "markdown",
   "metadata": {},
   "source": [
    "### i. How to represent the high-dimensional parameter vector $\\theta^{(i)}$\n",
    "Initially set $\\theta$ as 0 (zero). That is $\\theta^{0}$ is n dimension zero vector (or empty vector).\n",
    "<br>\n",
    "$\\theta^{(i)}$ can be represented as linear combination of $\\phi(x^1),\\phi(x^2),...,\\phi(x^i)$\n",
    "### ii. How to compute $h_{\\theta^{(i)}}(x^{(i+1)}) = g(\\theta^{(i)^T} \\phi(x^{(i)}))$\n",
    "set $\\theta$ as 0 (zero), $\\beta$ as 0 (zero), and $\\theta^{(i)} = \\sum_{j=1}^n \\beta_{j}\\phi(x^j)$.\n",
    "\\begin{align}\n",
    "h_{\\theta^{(i)}}(x^{(i+1)}) = g(\\theta^{(i)^T}\\phi(x^{(i+1)}))\\\\\n",
    "= g(\\sum_{(j=1)}^i \\beta_j\\phi(x^(j))\\phi(x^{(i+1)}))\\\\\n",
    "= g(\\sum_{(j=1)}^i \\beta_j K(x^j,x^{(i+1)}))\\\\\n",
    "\\end{align}\n",
    "### iii. How you will modify the update rule given above to perform an update to $\\theta$ \n",
    "$\\beta_{(i+1)} = \\beta{(i)} + \\alpha(y^{(i+1)} - h_{\\theta^{(i)}}(x^{(i+1)}))$\n",
    "<br>\n",
    "Update, $\\alpha(y^{(i+1)} - h_{\\theta^{(i)}}(x^{(i+1)}))$"
   ]
  },
  {
   "cell_type": "code",
   "execution_count": 16,
   "metadata": {},
   "outputs": [],
   "source": [
    "class KernelizingThePerceptron(object):\n",
    "    def __init__(self):\n",
    "        self.state = []\n",
    "        \n",
    "    def predict(self, kernel, x_i):\n",
    "        val = 0\n",
    "        for coef, x in self.state:\n",
    "            val += coef*kernel(x,x_i)\n",
    "        return self.sign(val)\n",
    "    \n",
    "    def update_state(self, kernel, learning_rate,x_i, y_i):\n",
    "        h_x = self.predict(kernel,x_i)\n",
    "        coef = learning_rate*(y_i - h_x)\n",
    "        self.state.append((coef,x_i))\n",
    "    \n",
    "    def sign(self, a):\n",
    "        if a>=0:\n",
    "            return 1\n",
    "        else:\n",
    "            return 0\n",
    "    \n",
    "    def dot_kernel(self,a,b):\n",
    "        return np.dot(a,b)\n",
    "    \n",
    "    def rbf_kernel(self,a,b,sigma=1):\n",
    "        distance = (a-b).dot(a-b)\n",
    "        scaled_distance = -distance/(2*(sigma)**2)\n",
    "        return math.exp(scaled_distance)\n",
    "    \n",
    "    def train_perceptron(self,kernel_name, kernel, learning_rate):\n",
    "        train_path = 'data/ds5_train.csv'\n",
    "        train_x, train_y = openData(train_path)\n",
    "        for x_i,y_i in zip(train_x,train_y):\n",
    "            self.update_state(kernel,learning_rate,x_i,y_i)\n",
    "        \n",
    "        test_path = 'data/ds5_test.csv'\n",
    "        test_x, test_y = openData(test_path)\n",
    "        \n",
    "        plt.figure(figsize=(5,5))\n",
    "        plot_contour(lambda a: self.predict(kernel,a))\n",
    "        plot_points(test_x,test_y)\n",
    "        plt.savefig('p05_{}_output.pdf'.format(kernel_name))\n",
    "        \n",
    "        predict_y = [self.predict(kernel, test_x[i, :]) for i in range(test_y.shape[0])]\n",
    "        \n",
    "        np.savetxt('p05_{}_predictions'.format(kernel_name), predict_y)\n",
    "    \n",
    "    def main(self):\n",
    "        self.train_perceptron('dot',self.dot_kernel,0.5)\n",
    "        self.train_perceptron('rbf',self.rbf_kernel,0.5)\n",
    "        "
   ]
  },
  {
   "cell_type": "code",
   "execution_count": 17,
   "metadata": {},
   "outputs": [
    {
     "data": {
      "image/png": "[encoded data removed]",
      "text/plain": [
       "<Figure size 360x360 with 1 Axes>"
      ]
     },
     "metadata": {
      "needs_background": "light"
     },
     "output_type": "display_data"
    },
    {
     "data": {
      "image/png": "[encoded data removed]",
      "text/plain": [
       "<Figure size 360x360 with 1 Axes>"
      ]
     },
     "metadata": {
      "needs_background": "light"
     },
     "output_type": "display_data"
    }
   ],
   "source": [
    "KP = KernelizingThePerceptron()\n",
    "KP.main()"
   ]
  },
  {
   "cell_type": "markdown",
   "metadata": {},
   "source": [
    "# 6. Spam classification"
   ]
  },
  {
   "cell_type": "markdown",
   "metadata": {},
   "source": [
    "## SVM"
   ]
  },
  {
   "cell_type": "code",
   "execution_count": 31,
   "metadata": {},
   "outputs": [],
   "source": [
    "class SVM(object):\n",
    "    def train_and_predict_svm(self,train_matrix, train_labels, test_matrix, radius):\n",
    "        model = self.svm_train(train_matrix,train_labels,radius)\n",
    "        return self.svm_predict(model,test_matrix,radius)\n",
    "    \n",
    "    def svm_train(self,matrix,category, radius):\n",
    "        state = {}\n",
    "        M,N = matrix.shape\n",
    "        Y = 2*category - 1\n",
    "        matrix = 1.*(matrix>0)\n",
    "        squared = np.sum(matrix*matrix,axis=1)\n",
    "        gram = matrix.dot(matrix.T)\n",
    "        K = np.exp(-(squared.reshape((1, -1)) + squared.reshape((-1, 1)) - 2 * gram) / (2 * (radius ** 2)) )\n",
    "        \n",
    "        alpha = np.zeros(M)\n",
    "        alpha_avg = np.zeros(M)\n",
    "        L = 1./(64*M)\n",
    "        outer_loops = 10\n",
    "        \n",
    "        alpha_avg\n",
    "        for ii in range(outer_loops*M):\n",
    "            i = int(np.random.rand()*M)\n",
    "            margin = Y[i]*np.dot(K[i,:],alpha)\n",
    "            grad = M*L*K[:,i]*alpha[i]\n",
    "            if (margin < 1):\n",
    "                grad -= Y[i]*K[:,i]\n",
    "            alpha -= grad/np.sqrt(ii+1)\n",
    "            alpha_avg += alpha\n",
    "        \n",
    "        alpha_avg /= (ii+1)*M\n",
    "        \n",
    "        state['alpha'] = alpha\n",
    "        state['alpha_avg'] = alpha_avg\n",
    "        state['Xtrain'] = matrix\n",
    "        state['Sqtrain'] = squared\n",
    "        return state\n",
    "    \n",
    "    def svm_predict(self,state,matrix,radius):\n",
    "        M,N = matrix.shape\n",
    "        output = np.zeros(M)\n",
    "        Xtrain = state['Xtrain']\n",
    "        Sqtrain = state['Sqtrain']\n",
    "        matrix = 1.*(matrix>0)\n",
    "        squared = np.sum(matrix*matrix,axis=1)\n",
    "        gram = matrix.dot(Xtrain.T)\n",
    "        K = np.exp(-(squared.reshape((-1, 1)) + Sqtrain.reshape((1, -1)) - 2 * gram) / (2 * (radius ** 2)))\n",
    "        alpha_avg = state['alpha_avg']\n",
    "        preds = K.dot(alpha_avg)\n",
    "        output = (1 + np.sign(preds))//2\n",
    "        return output"
   ]
  },
  {
   "cell_type": "markdown",
   "metadata": {},
   "source": [
    "## Spam"
   ]
  },
  {
   "cell_type": "code",
   "execution_count": 74,
   "metadata": {},
   "outputs": [],
   "source": [
    "class SPAM(object):\n",
    "    def get_words(self,message):\n",
    "        return [word.lower() for word in message.split()]\n",
    "    \n",
    "    def create_dictionary(self,messages):\n",
    "        temp = defaultdict(int)\n",
    "        mapping = defaultdict(int)\n",
    "        i = 0\n",
    "        for message in messages:\n",
    "            words = self.get_words(message)\n",
    "            for word in words:\n",
    "                temp[word]+=1\n",
    "                if temp[word] == 5:\n",
    "                    mapping[word] = i\n",
    "                    i+=1\n",
    "        return mapping\n",
    "    \n",
    "    def transform_text(self,messages,word_dictionary):\n",
    "        M,N = len(messages), len(word_dictionary)\n",
    "        data = np.zeros((M,N))\n",
    "        for i,message in enumerate(messages):\n",
    "            for word in self.get_words(message):\n",
    "                if word in word_dictionary:\n",
    "                    j = word_dictionary[word]\n",
    "                    data[i,j]+=1\n",
    "        return data \n",
    "    \n",
    "    def fit_naive_bayes_model(self,matrix,labels):\n",
    "        #labels = labels.astype(np.bool)\n",
    "        M,V = matrix.shape\n",
    "        phi_k = np.zeros((2,V))\n",
    "        phi_k[0] = matrix[labels==0].sum(axis=0)\n",
    "        phi_k[1] = matrix[labels==1].sum(axis=0)\n",
    "        # Laplace smoothing\n",
    "        phi_k+=1\n",
    "        # Normalize\n",
    "        phi_k[0] = phi_k[0]/phi_k[0].sum()\n",
    "        phi_k[1] = phi_k[1]/phi_k[1].sum()\n",
    "        #phi_k = phi_k/phi_k.sum(axis=1,keepdims=True)\n",
    "        phi_y = labels.sum()/labels.shape[0]\n",
    "        return phi_k,phi_y\n",
    "    \n",
    "    def predict_from_naive_bayes_model(self,model,matrix):\n",
    "        phi_k,phi_y = model\n",
    "        log_likelihood = np.sum(matrix[:,None]*np.log(phi_k),axis=-1)\n",
    "        log_likelihood[:,0] += np.log(1-phi_y)\n",
    "        log_likelihood[:,1] += np.log(phi_y)\n",
    "        return np.argmax(log_likelihood,axis=1)\n",
    "    \n",
    "    def get_top_five_naive_bayes_words(self,model,dictionary):\n",
    "        phi_k,phi_y = model\n",
    "        ratio = phi_k[1]/phi_k[0]\n",
    "        indices = np.argsort(ratio)[-5:][::-1]\n",
    "        idx2word = {v:k for k, v in dictionary.items()}\n",
    "        words = [idx2word[idx] for idx in indices]\n",
    "        return words\n",
    "    \n",
    "    def compute_best_svm_radius(self,train_matrix, train_labels, val_matrix, val_labels, radius_to_consider):\n",
    "        best_rad, best_acc = 0,0\n",
    "        for radius in radius_to_consider:\n",
    "            svm = SVM()\n",
    "            pred = svm.train_and_predict_svm(train_matrix, train_labels, val_matrix, radius)\n",
    "            acc = (pred == val_labels).sum() / len(pred)\n",
    "            if acc > best_acc:\n",
    "                best_rad = radius\n",
    "                best_acc = acc\n",
    "        return best_rad\n",
    "    \n",
    "    def main(self):\n",
    "        train_path = 'data/ds6_train.tsv'\n",
    "        train_messages, train_labels =  load_spam_dataset(train_path)\n",
    "        val_path = 'data/ds6_val.tsv'\n",
    "        val_messages, val_labels = load_spam_dataset(val_path)\n",
    "        test_path = 'data/ds6_test.tsv'\n",
    "        test_messages, test_labels = load_spam_dataset(test_path)\n",
    "        \n",
    "        dictionary = self.create_dictionary(train_messages)\n",
    "        write_json('p06_dictionary', dictionary)\n",
    "        \n",
    "        train_matrix = self.transform_text(train_messages, dictionary)\n",
    "        np.savetxt('p06_sample_train_matrix', train_matrix[:100,:])\n",
    "        \n",
    "        val_matrix = self.transform_text(val_messages, dictionary)\n",
    "        test_matrix = self.transform_text(test_messages, dictionary)\n",
    "        \n",
    "        naive_bayes_model = self.fit_naive_bayes_model(train_matrix, train_labels)\n",
    "        naive_bayes_predictions = self.predict_from_naive_bayes_model(naive_bayes_model, test_matrix)\n",
    "        \n",
    "        np.savetxt('p06_naive_bayes_predictions', naive_bayes_predictions)\n",
    "\n",
    "        naive_bayes_accuracy = np.mean(naive_bayes_predictions == test_labels)\n",
    "        print('Naive Bayes had an accuracy of {} on the testing set'.format(naive_bayes_accuracy))\n",
    "        \n",
    "        top_5_words = self.get_top_five_naive_bayes_words(naive_bayes_model, dictionary)\n",
    "        \n",
    "        print('The top 5 indicative words for Naive Bayes are: ', top_5_words)\n",
    "        \n",
    "        write_json('p06_top_indicative_words', top_5_words)\n",
    "        optimal_radius = self.compute_best_svm_radius(train_matrix, train_labels, val_matrix, val_labels, [0.01, 0.1, 1, 10])\n",
    "        \n",
    "        write_json('p06_optimal_radius', optimal_radius)\n",
    "        \n",
    "        print('The optimal SVM radius was {}'.format(optimal_radius))\n",
    "        svm = SVM()\n",
    "        svm_predictions = svm.train_and_predict_svm(train_matrix, train_labels, test_matrix, optimal_radius)\n",
    "        \n",
    "        svm_accuracy = np.mean(svm_predictions == test_labels)\n",
    "        print('The SVM model had an accuracy of {} on the testing set'.format(svm_accuracy, optimal_radius))"
   ]
  },
  {
   "cell_type": "code",
   "execution_count": 75,
   "metadata": {},
   "outputs": [
    {
     "name": "stdout",
     "output_type": "stream",
     "text": [
      "Naive Bayes had an accuracy of 0.978494623655914 on the testing set\n",
      "The top 5 indicative words for Naive Bayes are:  ['claim', 'won', 'prize', 'tone', 'urgent!']\n",
      "The optimal SVM radius was 0.1\n",
      "The SVM model had an accuracy of 0.9713261648745519 on the testing set\n"
     ]
    }
   ],
   "source": [
    "spam = SPAM()\n",
    "spam.main()"
   ]
  },
  {
   "cell_type": "code",
   "execution_count": null,
   "metadata": {},
   "outputs": [],
   "source": []
  }
 ],
 "metadata": {
  "kernelspec": {
   "display_name": "Python 3",
   "language": "python",
   "name": "python3"
  },
  "language_info": {
   "codemirror_mode": {
    "name": "ipython",
    "version": 3
   },
   "file_extension": ".py",
   "mimetype": "text/x-python",
   "name": "python",
   "nbconvert_exporter": "python",
   "pygments_lexer": "ipython3",
   "version": "3.7.4"
  }
 },
 "nbformat": 4,
 "nbformat_minor": 2
}
