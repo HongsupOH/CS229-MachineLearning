{
 "cells": [
  {
   "cell_type": "markdown",
   "metadata": {},
   "source": [
    "# CS229-Problem set 1\n",
    "## Hongsup Oh"
   ]
  },
  {
   "cell_type": "markdown",
   "metadata": {},
   "source": [
    "# Library"
   ]
  },
  {
   "cell_type": "code",
   "execution_count": 1,
   "metadata": {},
   "outputs": [],
   "source": [
    "import numpy as np\n",
    "import pandas as pd\n",
    "import matplotlib.pyplot as plt"
   ]
  },
  {
   "cell_type": "markdown",
   "metadata": {},
   "source": [
    "# Help functions"
   ]
  },
  {
   "cell_type": "code",
   "execution_count": 2,
   "metadata": {},
   "outputs": [],
   "source": [
    "def openData(file,intercept=None,prb=None):\n",
    "    f = pd.read_csv(file)\n",
    "    x = []\n",
    "    if intercept==True:\n",
    "        x.append([1.0 for x in range(len(list(f['x_1'])))])\n",
    "    x.append(list(f['x_1']))\n",
    "    if prb==None:\n",
    "        x.append(list(f['x_2']))\n",
    "    y = list(f['y'])\n",
    "    x = np.array(x)\n",
    "    x = x.T\n",
    "    y = np.array(y)\n",
    "    y = y.T\n",
    "    if 't' in f:\n",
    "        t = list(f['t'])\n",
    "        t = np.array(t)\n",
    "        t = t.T\n",
    "        return t,x,y\n",
    "    return x,y"
   ]
  },
  {
   "cell_type": "code",
   "execution_count": 3,
   "metadata": {},
   "outputs": [],
   "source": [
    "def plotData(x,y,theta,correction):\n",
    "    plt.figure(figsize=(5,5))\n",
    "    plt.plot(x[y == 1, -2], x[y == 1, -1], 'bo', linewidth=2)\n",
    "    plt.plot(x[y == 0, -2], x[y == 0, -1], 'go', linewidth=2)\n",
    "    # Plot decision boundary (found by solving for theta^T x = 0)\n",
    "    x1 = np.arange(min(x[:, -2]), max(x[:, -2]), 0.01)\n",
    "    x2 = -(theta[0] / theta[2] * correction + theta[1] / theta[2] * x1)\n",
    "    plt.plot(x1, x2, c='red', linewidth=2)\n",
    "    # Add labels and save to disk\n",
    "    plt.xlabel('x1')\n",
    "    plt.ylabel('x2')\n",
    "    plt.grid()"
   ]
  },
  {
   "cell_type": "code",
   "execution_count": 4,
   "metadata": {},
   "outputs": [],
   "source": [
    "def add_intercept(x):\n",
    "    new_x = np.zeros((x.shape[0], x.shape[1] + 1), dtype=x.dtype)\n",
    "    new_x[:, 0] = 1\n",
    "    new_x[:, 1:] = x\n",
    "\n",
    "    return new_x"
   ]
  },
  {
   "cell_type": "code",
   "execution_count": 5,
   "metadata": {},
   "outputs": [],
   "source": [
    "def mse(y_pred,y_val):\n",
    "    return ((y_pred-y_val)**2).mean()"
   ]
  },
  {
   "cell_type": "markdown",
   "metadata": {},
   "source": [
    "# 1.Logistic regression and GDA"
   ]
  },
  {
   "cell_type": "markdown",
   "metadata": {},
   "source": [
    "## a. Hessian H"
   ]
  },
  {
   "cell_type": "markdown",
   "metadata": {},
   "source": [
    "### Find Hessian matrix\n",
    "\\begin{align}\n",
    "J(\\theta)=\\frac{1}{m}\\sum_{i=1}^m y^{(i)}log(h_{\\theta}(x^{(i)}) + (1-y^{(i)})log(1-h_{\\theta}(x^{(i)}))\\\\\n",
    "\\nabla J(\\theta) = \\frac{\\partial{J(\\theta)}}{\\partial{\\theta_k}} = -\\frac{1}{m}\\sum_{i=1}^m y^{(i)}(1-g(z^{(i)}))x_k^{(i)}-(1-y^{(i)})g(z^{(i)})x_k^{(i)} = -\\frac{1}{m}\\sum_{i=1}^m (y^{(i)} - g(z^{(i)}))x_k^{(i)}\\\\\n",
    "H_{kl} = \\frac{\\partial}{\\partial{\\theta_k}}(-\\frac{1}{m}\\sum_{i=1}^m (y^{(i)} - g(z^{(i)}))x_k^{(i)}) = \\frac{1}{m}\\sum_{i=1}^m g(z^{(i)})(1-g(z^{(i)}))x_k^{(i)}\\\\\n",
    "\\end{align}\n",
    "### Notation and derivative\n",
    "\\begin{align}\n",
    "wehre, h_{\\theta}(x^{(i)}) = g(\\theta^{T}x^{(i)}) = g(z^{(i)}) = \\frac{1}{1+e^{-z^{(i)}}}\\\\\n",
    "where, 1-h_{\\theta}(x^{(i)}) = 1 - \\frac{1}{1+e^{-z^{(i)}}} = \\frac{e^{-z^{(i)}}}{1+e^{-z^{(i)}}} = \\frac{1}{1+e^{z^{(i)}}} = g(-z^{(i)})\\\\\n",
    "where, \\frac{\\partial}{\\partial{z^{(i)}}}g(-z^{(i)}) = \\frac{\\partial}{\\partial{z^{(i)}}}(1+e^{-z^{(i)}})^{-1} = e^{-z^{(i)}}(1+e^{-z^{(i)}})^{-2}\\\\\n",
    "where, \\frac{\\partial{(log(g(-z^{(i)}))})}{\\partial{\\theta_{k}}} = \\frac{1}{g(z^{(i)})}\\frac{\\partial{g(z^{(i)})}}{\\partial{\\theta_k}} = \\frac{1}{g(z^{(i)})}\\frac{\\partial{g(z^{(i)})}}{\\partial{z^{(i)}}}\\frac{\\partial{z^{(i)}}}{\\partial{\\theta_{k}}} = (1 - g(z^{(i)}))x_{k}^{(i)}\\\\\n",
    "where, \\frac{\\partial{(log(1-g(-z^{(i)}))})}{\\partial{\\theta_{k}}} = \\frac{1}{1-g(z^{(i)})}\\frac{\\partial{(1-g(z^{(i)})})}{\\partial{\\theta_k}} = -g(z^{(i)})x_{k}^{(i)}\\\\\n",
    "\\end{align}\n",
    "### Semi Positive Definite\n",
    "\\begin{align}\n",
    "z^{T}Hz = \\sum_{k=1}^n \\sum_{l=1}^n z_{k}H_{kl}z_{l}\n",
    "= \\sum_{k=1}^n \\sum_{l=1}^n [z_{k}\\frac{1}{m}\\sum_{i=1}^m g(z^{(i)})(1-g(z^{(i)}))x_k^{i}x_l^{i}]z_l\\\\ \n",
    "= \\frac{1}{m}\\sum_{i=1}^m g(z^{(i)})(1 - g(z^{(i)}))\\sum_{k=1}^n \\sum_{l=1}^n z_{k}x_{k}^{(i)}x_{l}^{(i)}z_l\\\\\n",
    "given, 0<g(z^{(i)})<1, and \\sum_{k=1}^n \\sum_{l=1}^n z_{k}x_{k}^{(i)}x_{l}^{(i)}z_{l} = ((x^{(i)})^{T}z)^2 \\geq 0\\\\\n",
    "\\text{Thus, } z^{T}Hz \\geq 0\\\\\n",
    "\\end{align}"
   ]
  },
  {
   "cell_type": "markdown",
   "metadata": {},
   "source": [
    "## b. Log regresion (coding)"
   ]
  },
  {
   "cell_type": "code",
   "execution_count": 6,
   "metadata": {},
   "outputs": [],
   "source": [
    "class LogisticRegression:\n",
    "    def __init__(self,eps=None,max_iter=None):\n",
    "        self.eps = None\n",
    "        self.max_iter = None\n",
    "        if eps:\n",
    "            self.eps = eps\n",
    "        if max_iter:\n",
    "            self.max_iter = max_iter\n",
    "        self.theta = None\n",
    "    \n",
    "    def fit(self,x,y):\n",
    "        g = lambda x: 1/(1+np.exp(-x))\n",
    "        m,n = x.shape\n",
    "        #Initialize Theta\n",
    "        if self.theta is None:\n",
    "            self.theta = np.zeros(n)\n",
    "        Miter = 0\n",
    "        while True:\n",
    "            theta = self.theta\n",
    "            # Derivation of Loss function\n",
    "            l = -(1/m)*(y-g(x.dot(theta))).dot(x)\n",
    "            # Hessian Matrix\n",
    "            z = x.dot(theta)\n",
    "            H = (1/m)*g(z).dot(1-g(z))*(x.T).dot(x)\n",
    "            H_inv = np.linalg.inv(H)\n",
    "            # Updata\n",
    "            self.theta = theta - H_inv.dot(l)\n",
    "            # Terminate Code\n",
    "            if self.eps and np.linalg.norm(self.theta-theta,ord=1)<self.eps:\n",
    "                break\n",
    "            if self.max_iter and Miter<self.max_iter:\n",
    "                break\n",
    "            Miter +=1\n",
    "                \n",
    "    def predict(self,x):\n",
    "        g = lambda x: 1/(1+np.exp(-x))\n",
    "        preds = g(x.dot(self.theta))\n",
    "        return preds"
   ]
  },
  {
   "cell_type": "code",
   "execution_count": 7,
   "metadata": {},
   "outputs": [],
   "source": [
    "train_path01 = 'data/ds1_train.csv'\n",
    "valid_path01 = 'data/ds1_valid.csv'"
   ]
  },
  {
   "cell_type": "code",
   "execution_count": 8,
   "metadata": {},
   "outputs": [],
   "source": [
    "x_train_LR,y_train_LR = openData(train_path01,intercept=True)\n",
    "x_val_LR,y_val_LR = openData(valid_path01,intercept=True)"
   ]
  },
  {
   "cell_type": "code",
   "execution_count": 9,
   "metadata": {},
   "outputs": [],
   "source": [
    "model = LogisticRegression(eps=1e-5)\n",
    "model.fit(x_train_LR, y_train_LR)"
   ]
  },
  {
   "cell_type": "code",
   "execution_count": 10,
   "metadata": {},
   "outputs": [],
   "source": [
    "y_pred_LR = model.predict(x_val_LR)"
   ]
  },
  {
   "cell_type": "code",
   "execution_count": 11,
   "metadata": {},
   "outputs": [
    {
     "data": {
      "image/png": "[encoded data removed]",
      "text/plain": [
       "<Figure size 360x360 with 1 Axes>"
      ]
     },
     "metadata": {
      "needs_background": "light"
     },
     "output_type": "display_data"
    }
   ],
   "source": [
    "plotData(x_val_LR,y_val_LR,model.theta,1)"
   ]
  },
  {
   "cell_type": "code",
   "execution_count": 12,
   "metadata": {},
   "outputs": [
    {
     "name": "stdout",
     "output_type": "stream",
     "text": [
      "Error of Linear regression is 0.07839112223575706\n"
     ]
    }
   ],
   "source": [
    "error = mse(y_pred_LR,y_val_LR)\n",
    "print(\"Error of Linear regression is {}\".format(error))"
   ]
  },
  {
   "cell_type": "markdown",
   "metadata": {},
   "source": [
    "## c. GDA"
   ]
  },
  {
   "cell_type": "markdown",
   "metadata": {},
   "source": [
    "### Problem\n",
    "\\begin{align}\n",
    "p(y) = \\phi^{y}(1-\\phi)^{(1-y)}\\\\\n",
    "p(x|y=0) = \\frac{1}{(2\\pi)^{n/2}|\\Sigma|^{1/2}}exp(-(x-\\mu_{0})^{T}\\Sigma^{-1}(x-\\mu_{0}))\\\\\n",
    "p(x|y=1) = \\frac{1}{(2\\pi)^{n/2}|\\Sigma|^{1/2}}exp(-(x-\\mu_{1})^{T}\\Sigma^{-1}(x-\\mu_{1}))\\\\\n",
    "Show: p(y=1|x;\\phi,\\mu_0,\\mu_1,\\Sigma) = \\frac{1}{1+exp(-(\\theta^{T}x + \\theta_0))}\\\\\n",
    "where, \\theta \\in R^n \\text{, and } \\theta_0 \\in R\\\\\n",
    "\\end{align}\n",
    "### Prove\n",
    "\\begin{align}\n",
    "p(y=1|x) = \\frac{p(x|y=1)p(y=1)}{p(x)} = \\frac{p(x|y=1)p(y=1)}{p(x|y=0)p(y=0)+p(x|y=1)p(y=1)} = \\frac{1}{1 + \\frac{p(x|y=0)p(y=0)}{p(x|y=1)p(y=1)}}\\\\\n",
    "\\frac{p(x|y=0)p(y=0)}{p(x|y=1)p(y=1)} =  \\frac{exp(-\\frac{1}{2}(x-\\mu_0)^T\\Sigma^{-1}(x-\\mu_0))}{exp(-\\frac{1}{2}(x-\\mu_1)^T\\Sigma^{-1}(x-\\mu_1))}\\frac{1-\\phi}{\\phi} = exp(-\\frac{1}{2}(x-\\mu_0)^T\\Sigma^{-1}(x-\\mu_0) + \\frac{1}{2}(x-\\mu_1)^T\\Sigma^{-1}(x-\\mu_1) log(\\frac{1-\\phi}{\\phi})) \\\\= exp(-\\frac{1}{2}(\\mu_0+\\mu_1)^T\\Sigma^{-1}(\\mu_0+\\mu_1)+log(\\frac{1-\\phi}{\\phi}) + (\\mu_0-\\mu_1)\\Sigma^{-1}x)\\\\\n",
    "\\text{Thus, } \\theta_0 = -\\frac{1}{2}(\\mu_0+\\mu_1)^T\\Sigma^{-1}(\\mu_0+\\mu_1)+log(\\frac{1-\\phi}{\\phi})\\text{, and } \\theta = (\\mu_0-\\mu_1)\\Sigma^{-1}\\\\\n",
    "\\end{align}"
   ]
  },
  {
   "cell_type": "markdown",
   "metadata": {},
   "source": [
    "## d. GDA"
   ]
  },
  {
   "cell_type": "markdown",
   "metadata": {},
   "source": [
    "### Problem\n",
    "\\begin{align}\n",
    "l(\\phi, \\mu_0, \\mu_1, \\Sigma) = log(\\prod_{i=1}^m p(x^{(i)},y^{(i)};\\phi,\\mu_0,\\mu_1,\\Sigma) = log(\\prod_{i=1}^m p(x^{(i)}|y^{(i)};\\mu_0,\\mu_1,\\Sigma)p(y^{(i)};\\phi))\\\\ \n",
    "= \\prod_{i=1}^m (\\frac{1}{(2\\pi)^{n/2}|\\Sigma|^{1/2}}exp(-\\frac{1}{2}(x^{(i)}-\\mu_k)^{T}\\Sigma^{-1}(x^{(i)}-\\mu_k))\\phi^{y^{(i)}}(1-\\phi)^{1-y^{(i)}})\\\\\n",
    "= \\sum_{i=1}^m (-\\frac{1}{2}log(2\\pi)-\\frac{1}{2}log(|\\Sigma|)-\\frac{1}{2}(x^{(i)}-\\mu_k)^{T}\\Sigma^{-1}(x^{(i)}-\\mu_k)+y^{(i)}log(\\phi)+(1-y^{(i)})log(\\phi))\n",
    "\\end{align}\n",
    "\n",
    "### Prove phi\n",
    "\\begin{align}\n",
    "\\frac{\\partial l(\\phi,\\mu_k,\\Sigma)}{\\partial \\phi} = 0\\\\\n",
    "\\sum_{i=1}^m (\\frac{y^{(i)}}{\\phi} - \\frac{1-y^{(i)}}{1-\\phi}) = 0\\\\\n",
    "\\sum_{i=1}^m (y^{(i)} - y^{(i)}\\phi -phi +y^{(i)}\\phi) = 0\\\\\n",
    "\\sum_{i=1}^m (y^{(i)} + \\phi) = 0\\\\\n",
    "\\sum_{i=1}^m y^{(i)} = m\\phi\\\\\n",
    "\\phi = \\frac{\\sum_{i=1}^m y^{(i)}}{m}\\\\\n",
    "\\phi = \\frac{\\sum_{i=1}^m 1(y^{(i)} = 1)}{m}\\\\\n",
    "\\end{align}\n",
    "\n",
    "### Prove average\n",
    "\\begin{align}\n",
    "\\frac{\\partial}{\\partial \\mu_k}l(\\phi,\\mu_k,\\Sigma) = 0\\\\\n",
    "\\frac{\\partial}{\\partial \\mu_k}(\\sum_{i=1}^m (-\\frac{1}{2}(x^{(i)} - \\mu_k)^T\\Sigma^{-1}(x^{(i)} - \\mu_k))) = 0\\\\\n",
    "where, \\frac{\\partial\\alpha^TA\\alpha}{\\partial\\alpha} = 2\\alpha^TA\\\\\n",
    "where, \\alpha = (x^{(i)} - \\mu_k)\\\\\n",
    "\\frac{\\partial l}{\\partial \\mu_k} = \\frac{\\partial l}{\\partial \\alpha}\\frac{\\partial \\alpha}{\\partial \\mu_k}\\\\\n",
    "\\frac{\\partial \\alpha}{\\partial \\mu_k} = 1(y^{(i)} = k)\\\\\n",
    "-\\frac{1}{2}2\\sum_{i=1}^m((x^{(i)} - \\mu_k)^T\\Sigma^{-1}\\frac{\\partial \\alpha}{\\partial \\mu_k})=0\\\\\n",
    "\\sum_{i=1}^m x^{(i)}\\frac{\\partial \\alpha}{\\partial \\mu_k} - \\sum_{i=1}^m \\mu_k\\frac{\\partial \\alpha}{\\partial \\mu_k} = 0\\\\\n",
    "Thus, \\mu_k = \\frac{\\sum_{i=1}^m x^{(i)}1(y^{(i)}=k)}{\\sum_{i=1}^m 1(y^{(i)}=k)}\\\\\n",
    "\\mu_k = \n",
    "\\begin{cases}\n",
    "\\mu_1 &\\text{if k=1}\\\\\n",
    "\\mu_2 &\\text{else if k=2}\\\\\n",
    "\\end{cases}\\\\\n",
    "\\end{align}\n",
    "\n",
    "### Prove Sigma\n",
    "\\begin{align}\n",
    "\\frac{\\partial}{\\partial \\Sigma} l(\\phi, \\mu_k, \\Sigma) = 0\\\\\n",
    "\\frac{\\partial}{\\partial \\Sigma}\\sum_{i=1}^m(-\\frac{1}{2}log(|\\Sigma|) -\\frac{1}{2}(x^{(i)} - \\mu_k) \\Sigma^{-1}(x^{(i)} - \\mu_k)) = 0\\\\\n",
    "where, \\frac{\\partial log(|x|)}{\\partial x} = x^{-T}, \\frac{\\partial\\alpha^{T}x^{-1}\\beta}{\\partial x} = -x^{-T}\\alpha^T\\beta x^{-T}\\\\\n",
    "\\sum_{i=1}^m(-\\frac{1}{2}\\Sigma^{-T}+\\frac{1}{2}\\Sigma^{-T}(x^{(i)} - \\mu_k)^T(x^{(i)} - \\mu_k)\\Sigma^{-T}) = 0\\\\\n",
    "\\sum_{i=1}^m(-1 + \\Sigma^{-T}(x^{(i)} - \\mu_k)(x^{(i)} - \\mu_k)) = 0\\\\\n",
    "m = \\sum_{i=1}^m(\\Sigma^{-T}(x^{(i)} - \\mu_k)^T(x^{(i)} - \\mu_k))\\\\\n",
    "\\Sigma = \\frac{\\sum_{i=1}^m (x^{(i)} - \\mu_k)^T(x^{(i)} - \\mu_k)}{m}\\\\\n",
    "\\end{align}"
   ]
  },
  {
   "cell_type": "markdown",
   "metadata": {},
   "source": [
    "## e.GDA(Code)"
   ]
  },
  {
   "cell_type": "code",
   "execution_count": 13,
   "metadata": {},
   "outputs": [],
   "source": [
    "class GDA:\n",
    "    def fit(self,x,y):\n",
    "        m,n = x.shape\n",
    "        # Calculate phi, mu_0, mu_1, Cov\n",
    "        phi = (y==1).sum()/m\n",
    "        mu_0 = x[y==0].sum(axis=0) / (y==0).sum()\n",
    "        mu_1 = x[y==1].sum(axis=0) / (y==1).sum()\n",
    "        diff = x.copy()\n",
    "        diff[y==0] -= mu_0\n",
    "        diff[y==1] -= mu_1\n",
    "        cov = (1/m) * diff.T.dot(diff)\n",
    "        # Updata theta\n",
    "        cov_inv = np.linalg.inv(cov)\n",
    "        theta = cov_inv.dot(mu_1-mu_0)\n",
    "        theta0 = (1/2)*(mu_0.T.dot(cov_inv).dot(mu_0) - mu_1.T.dot(cov_inv).dot(mu_1)) - np.log((1 - phi)/phi)\n",
    "        theta0 = np.array(theta0)\n",
    "        theta = np.hstack([theta0,theta])\n",
    "        self.theta = theta\n",
    "        \n",
    "    def predict(self,x):\n",
    "        sigmoid = lambda z: 1 / (1+ np.exp(-z))\n",
    "        x = add_intercept(x)\n",
    "        probs = sigmoid(x.dot(self.theta))\n",
    "        preds = (probs>=0.5).astype(np.int)\n",
    "        return preds"
   ]
  },
  {
   "cell_type": "code",
   "execution_count": 14,
   "metadata": {},
   "outputs": [],
   "source": [
    "train_GDA1 = 'data/ds1_train.csv'\n",
    "valid_GDA1 = 'data/ds1_valid.csv'\n",
    "train_GDA2 = 'data/ds2_train.csv'\n",
    "valid_GDA2 = 'data/ds2_valid.csv'"
   ]
  },
  {
   "cell_type": "code",
   "execution_count": 15,
   "metadata": {},
   "outputs": [],
   "source": [
    "x_train_GDA1,y_train_GDA1 = openData(train_GDA1)\n",
    "x_val_GDA1,y_val_GDA1 = openData(valid_GDA1)\n",
    "x_train_GDA2,y_train_GDA2 = openData(train_GDA2)\n",
    "x_val_GDA2,y_val_GDA2 = openData(valid_GDA2)"
   ]
  },
  {
   "cell_type": "code",
   "execution_count": 16,
   "metadata": {},
   "outputs": [],
   "source": [
    "modelGDA1 = GDA()\n",
    "modelGDA1.fit(x_train_GDA1,y_train_GDA1)\n",
    "modelGDA2 = GDA()\n",
    "modelGDA2.fit(x_train_GDA2,y_train_GDA2)"
   ]
  },
  {
   "cell_type": "code",
   "execution_count": 17,
   "metadata": {},
   "outputs": [],
   "source": [
    "y_pred_GDA1 = modelGDA1.predict(x_val_GDA1)"
   ]
  },
  {
   "cell_type": "code",
   "execution_count": 18,
   "metadata": {},
   "outputs": [
    {
     "data": {
      "image/png": "[encoded data removed]",
      "text/plain": [
       "<Figure size 360x360 with 1 Axes>"
      ]
     },
     "metadata": {
      "needs_background": "light"
     },
     "output_type": "display_data"
    }
   ],
   "source": [
    "plotData(x_val_GDA1,y_val_GDA1,modelGDA1.theta,1)"
   ]
  },
  {
   "cell_type": "code",
   "execution_count": 19,
   "metadata": {},
   "outputs": [
    {
     "name": "stdout",
     "output_type": "stream",
     "text": [
      "Error of Linear regression is 0.17\n"
     ]
    }
   ],
   "source": [
    "error1 = mse(y_pred_GDA1,y_val_GDA1)\n",
    "print(\"Error of Linear regression is {}\".format(error1))"
   ]
  },
  {
   "cell_type": "code",
   "execution_count": 20,
   "metadata": {},
   "outputs": [],
   "source": [
    "y_pred_GDA2 = modelGDA2.predict(x_val_GDA2)"
   ]
  },
  {
   "cell_type": "code",
   "execution_count": 21,
   "metadata": {},
   "outputs": [
    {
     "data": {
      "image/png": "[encoded data removed]",
      "text/plain": [
       "<Figure size 360x360 with 1 Axes>"
      ]
     },
     "metadata": {
      "needs_background": "light"
     },
     "output_type": "display_data"
    }
   ],
   "source": [
    "plotData(x_val_GDA2,y_val_GDA2,modelGDA2.theta,1)"
   ]
  },
  {
   "cell_type": "code",
   "execution_count": 22,
   "metadata": {},
   "outputs": [
    {
     "name": "stdout",
     "output_type": "stream",
     "text": [
      "Error of Linear regression is 0.09\n"
     ]
    }
   ],
   "source": [
    "error2 = mse(y_pred_GDA2,y_val_GDA2)\n",
    "print(\"Error of Linear regression is {}\".format(error2))"
   ]
  },
  {
   "cell_type": "markdown",
   "metadata": {},
   "source": [
    "# 2. Incomplete, Positive-Only Labels"
   ]
  },
  {
   "cell_type": "markdown",
   "metadata": {},
   "source": [
    "## a."
   ]
  },
  {
   "cell_type": "markdown",
   "metadata": {},
   "source": [
    "### problem\n",
    "\\begin{align}\n",
    "p(y^{(i)}=1|t^{(i)}=1,x^{(i)}) = p(y^{(i)}=1|t^{(i)}=1)\\\\\n",
    "p(t^{(i)}=1|x^{(i)}) = p(y{(i)}=1|x^{(i)})/\\alpha\\\\\n",
    "Get, \\alpha\\\\\n",
    "\\end{align}\n",
    "### prove\n",
    "\\begin{align}\n",
    "p(y{(i)}=1|x^{(i)}) = p(y^{(i)}=1|t^{(i)}=1,x^{(i)})p(t^{(i)}=1|x^{(i)}) = p(y^{(i)}=1|t^{(i)}=1)p(t^{(i)}=1|x^{(i)})\\\\\n",
    "Thus, \\alpha = p(y^{(i)}=1|t^{(i)})\\\\\n",
    "\\end{align}"
   ]
  },
  {
   "cell_type": "markdown",
   "metadata": {},
   "source": [
    "## b."
   ]
  },
  {
   "cell_type": "markdown",
   "metadata": {},
   "source": [
    "### Problem\n",
    "\\begin{align}\n",
    "h(x^{(i)}) = p(y^{(i)}=1|x^{(i)})\\\\\n",
    "show, h(x^{(i)}) = \\alpha, x^{(i)}\\in V_{+}\\\\\n",
    "assume, p(t^{(i)}=1|x^{(i)})=1, x^{(i)}\\in V_{+}\\\\\n",
    "\\end{align}\n",
    "### Solve\n",
    "\\begin{align}\n",
    "h(x^{(i)}) = p(y^{(i)}=1|x^{(i)})= p(t^{(i)}=1|x^{(i)})\\alpha = \\alpha\\\\\n",
    "\\end{align}"
   ]
  },
  {
   "cell_type": "markdown",
   "metadata": {},
   "source": [
    "## c. Trained by t"
   ]
  },
  {
   "cell_type": "code",
   "execution_count": 23,
   "metadata": {},
   "outputs": [],
   "source": [
    "train_pr2 = 'data/ds3_train.csv'\n",
    "valid_pr2 = 'data/ds3_valid.csv'\n",
    "test_pr2='data/ds3_test.csv'"
   ]
  },
  {
   "cell_type": "code",
   "execution_count": 24,
   "metadata": {},
   "outputs": [],
   "source": [
    "t_train_pr2,x_train_pr2,y_train_pr2 = openData(train_pr2,intercept=True)\n",
    "t_val_pr2,x_val_pr2,y_val_pr2 = openData(valid_pr2,intercept=True)\n",
    "t_test_pr2,x_test_pr2,y_test_pr2 = openData(test_pr2,intercept=True)"
   ]
  },
  {
   "cell_type": "code",
   "execution_count": 25,
   "metadata": {},
   "outputs": [],
   "source": [
    "model_pr2t = LogisticRegression(eps=1e-5)\n",
    "model_pr2t.fit(x_train_pr2,t_train_pr2)"
   ]
  },
  {
   "cell_type": "code",
   "execution_count": 26,
   "metadata": {},
   "outputs": [],
   "source": [
    "t_pred_pr2t = model_pr2t.predict(x_val_pr2)"
   ]
  },
  {
   "cell_type": "code",
   "execution_count": 27,
   "metadata": {},
   "outputs": [
    {
     "data": {
      "image/png": "[encoded data removed]",
      "text/plain": [
       "<Figure size 360x360 with 1 Axes>"
      ]
     },
     "metadata": {
      "needs_background": "light"
     },
     "output_type": "display_data"
    }
   ],
   "source": [
    "plotData(x_val_pr2,t_val_pr2,model_pr2t.theta,1)"
   ]
  },
  {
   "cell_type": "code",
   "execution_count": 28,
   "metadata": {},
   "outputs": [
    {
     "name": "stdout",
     "output_type": "stream",
     "text": [
      "Error of Linear regression is 0.03855695308985676\n"
     ]
    }
   ],
   "source": [
    "error = mse(t_pred_pr2t,t_val_pr2)\n",
    "print(\"Error of Linear regression is {}\".format(error))"
   ]
  },
  {
   "cell_type": "markdown",
   "metadata": {},
   "source": [
    "## d. Trained by y"
   ]
  },
  {
   "cell_type": "code",
   "execution_count": 29,
   "metadata": {},
   "outputs": [],
   "source": [
    "model_pr2y = LogisticRegression(eps=1e-5)\n",
    "model_pr2y.fit(x_train_pr2,y_train_pr2)"
   ]
  },
  {
   "cell_type": "code",
   "execution_count": 30,
   "metadata": {},
   "outputs": [],
   "source": [
    "t_pred_pr2y = model.predict(x_val_pr2)"
   ]
  },
  {
   "cell_type": "code",
   "execution_count": 31,
   "metadata": {},
   "outputs": [
    {
     "data": {
      "image/png": "[encoded data removed]",
      "text/plain": [
       "<Figure size 360x360 with 1 Axes>"
      ]
     },
     "metadata": {
      "needs_background": "light"
     },
     "output_type": "display_data"
    }
   ],
   "source": [
    "plotData(x_val_pr2,t_val_pr2,model_pr2y.theta,1)"
   ]
  },
  {
   "cell_type": "code",
   "execution_count": 32,
   "metadata": {},
   "outputs": [
    {
     "name": "stdout",
     "output_type": "stream",
     "text": [
      "Error of Linear regression is 0.4102691150439857\n"
     ]
    }
   ],
   "source": [
    "error = mse(t_pred_pr2y,t_val_pr2)\n",
    "print(\"Error of Linear regression is {}\".format(error))"
   ]
  },
  {
   "cell_type": "markdown",
   "metadata": {},
   "source": [
    "## e. Correction"
   ]
  },
  {
   "cell_type": "code",
   "execution_count": 33,
   "metadata": {},
   "outputs": [],
   "source": [
    "model_pr2C = LogisticRegression(eps=1e-5)\n",
    "model_pr2C.fit(x_train_pr2,y_train_pr2)\n",
    "\n",
    "y_pred = model_pr2C.predict(x_val_pr2)"
   ]
  },
  {
   "cell_type": "code",
   "execution_count": 34,
   "metadata": {},
   "outputs": [],
   "source": [
    "alpha = y_pred[y_val_pr2 == 1].sum() / (y_val_pr2 == 1).sum()"
   ]
  },
  {
   "cell_type": "code",
   "execution_count": 35,
   "metadata": {},
   "outputs": [],
   "source": [
    "correction = 1 + (np.log(2 / alpha - 1) / model_pr2C.theta[0])"
   ]
  },
  {
   "cell_type": "code",
   "execution_count": 36,
   "metadata": {},
   "outputs": [
    {
     "data": {
      "image/png": "[encoded data removed]",
      "text/plain": [
       "<Figure size 360x360 with 1 Axes>"
      ]
     },
     "metadata": {
      "needs_background": "light"
     },
     "output_type": "display_data"
    }
   ],
   "source": [
    "plotData(x_test_pr2,t_test_pr2,model_pr2C.theta,correction)"
   ]
  },
  {
   "cell_type": "markdown",
   "metadata": {},
   "source": [
    "# 3. Poisson regression"
   ]
  },
  {
   "cell_type": "markdown",
   "metadata": {},
   "source": [
    "## a. exponential family"
   ]
  },
  {
   "cell_type": "markdown",
   "metadata": {},
   "source": [
    "\\begin{align}\n",
    "p(y;\\lambda) = \\frac{e^{-\\lambda}\\lambda^y}{y!}\\\\\n",
    "exp(log(\\frac{e^{-\\lambda}\\lambda^y}{y!}))\\\\\n",
    "exp(-\\lambda log(e) + ylog(\\lambda)-log(y!))\\\\\n",
    "\\frac{1}{y!}exp((log(\\lambda))y -\\lambda)\\\\\n",
    "b(y) = \\frac{1}{y!}\\\\\n",
    "\\eta^T = log(\\lambda)\\\\\n",
    "T(y) = y\\\\\n",
    "a(\\eta) = \\lambda = e^{\\eta}\\\\\n",
    "\\end{align}"
   ]
  },
  {
   "cell_type": "markdown",
   "metadata": {},
   "source": [
    "## b. Canonical response function for poisson"
   ]
  },
  {
   "cell_type": "markdown",
   "metadata": {},
   "source": [
    "\\begin{align}\n",
    "h_{\\theta}(x) = E[y|x;\\theta] = \\lambda = e^\\eta = e^{\\theta^{T}x}\\\\\n",
    "where, \\eta = \\theta^{T}x\\\\\n",
    "\\end{align}"
   ]
  },
  {
   "cell_type": "markdown",
   "metadata": {},
   "source": [
    "## c. GLM of poisson"
   ]
  },
  {
   "cell_type": "markdown",
   "metadata": {},
   "source": [
    "\\begin{align}\n",
    "L(\\theta) = p(y;\\lambda) = \\frac{e^{-\\lambda}\\lambda^y}{y!}\\\\\n",
    "l(\\theta) = \\sum_{i=1}^m log(L(\\theta)) = \\sum_{i=1}^m(-log(y^{(i)}!) + y^{(i)}log(\\lambda) - \\lambda)\\\\\n",
    "where, e^\\eta = e^{\\theta^T x}\\\\\n",
    "l(\\theta) = \\sum_{i=1}^m(-log(y^{(i)}!)+y^{(i)}log(e^{\\theta^{T}x^{(i)}})-e^{\\theta^{T}x^{(i)}})\\\\\n",
    "l(\\theta) = \\sum_{i=1}^m(-log(y^{(i)}!)+y^{(i)}\\theta^{T}x^{(i)}-e^{\\theta^{T}x^{(i)}})\\\\\n",
    "\\frac{\\partial l(\\theta)}{\\partial \\theta_j} = \\sum_{i=1}^m(y^{(i)}x_j^{(i)} - x_j^{(i)}e^{\\theta^{T}x^{(i)}})\\\\\n",
    "\\frac{\\partial l(\\theta)}{\\partial \\theta_j} =\\sum_{i=1}^m(y^{(i)} - e^{\\theta^{T}x^{(i)}})x_j^{(i)}\\\\\n",
    "\\frac{\\partial l(\\theta)}{\\partial \\theta_j} =\\sum_{i=1}^m(y^{(i)} - g(\\theta^{T}x^{(i)}))x_j^{(i)}\\\\\n",
    "\\theta := \\theta + \\alpha\\frac{\\partial l(\\theta)}{\\partial \\theta_j} = \\theta + \\alpha\\sum_{i=1}^m(y^{(i)} - g(\\theta^{T}x^{(i)}))x_j^{(i)}\\\\\n",
    "\\end{align}"
   ]
  },
  {
   "cell_type": "markdown",
   "metadata": {},
   "source": [
    "## d. Poisson regression (coding)"
   ]
  },
  {
   "cell_type": "code",
   "execution_count": 37,
   "metadata": {},
   "outputs": [],
   "source": [
    "class PoissongRegression:\n",
    "    def __init__(self,max_iter,alpha,eps):\n",
    "        self.theta = None\n",
    "        self.max_iter = max_iter\n",
    "        self.alpha = alpha\n",
    "        self.eps = eps\n",
    "        \n",
    "    def fit(self,x,y):\n",
    "        m,n = x.shape\n",
    "        if self.theta ==None:\n",
    "            self.theta = np.zeros(n)\n",
    "        g = lambda x: np.exp(x)\n",
    "        for i in range(self.max_iter):\n",
    "            theta = self.theta\n",
    "            grad_logLike = (1/m)*(y-g(x.dot(theta))).dot(x)\n",
    "            self.theta = theta + self.alpha*grad_logLike\n",
    "            if(np.linalg.norm(self.theta-theta,ord=1)<self.eps):\n",
    "                break\n",
    "        \n",
    "    def predict(self,x):\n",
    "        g = lambda z:np.exp(z)\n",
    "        return g(x.dot(self.theta))"
   ]
  },
  {
   "cell_type": "code",
   "execution_count": 38,
   "metadata": {},
   "outputs": [],
   "source": [
    "train_pr3 = 'data/ds4_train.csv'\n",
    "valid_pr3 = 'data/ds4_valid.csv'"
   ]
  },
  {
   "cell_type": "code",
   "execution_count": 39,
   "metadata": {},
   "outputs": [],
   "source": [
    "x_train_pr3,y_train_pr3 = openData(train_pr3)\n",
    "x_val_pr3,y_val_pr3 = openData(valid_pr3)"
   ]
  },
  {
   "cell_type": "code",
   "execution_count": 40,
   "metadata": {},
   "outputs": [],
   "source": [
    "modelPoi = PoissongRegression(1000000, 1e-7, 1e-5)\n",
    "modelPoi.fit(x_train_pr3, y_train_pr3)"
   ]
  },
  {
   "cell_type": "code",
   "execution_count": 41,
   "metadata": {},
   "outputs": [],
   "source": [
    "y_pred_poi = modelPoi.predict(x_val_pr3)"
   ]
  },
  {
   "cell_type": "code",
   "execution_count": 42,
   "metadata": {},
   "outputs": [
    {
     "name": "stdout",
     "output_type": "stream",
     "text": [
      "Error of Linear regression is 23485736961257.734\n"
     ]
    }
   ],
   "source": [
    "error = mse(y_pred_poi,y_val_pr3)\n",
    "print(\"Error of Linear regression is {}\".format(error))"
   ]
  },
  {
   "cell_type": "markdown",
   "metadata": {},
   "source": [
    "# 4. Convexity of Generalized Linear Models"
   ]
  },
  {
   "cell_type": "markdown",
   "metadata": {},
   "source": [
    "## a. Expectation"
   ]
  },
  {
   "cell_type": "markdown",
   "metadata": {},
   "source": [
    "### Problem\n",
    "\\begin{align}\n",
    "p(y;\\eta) = b(y)exp(\\eta y - a(\\eta))\\\\\n",
    "where, \\frac{\\partial}{\\partial \\eta}\\int p(y;\\eta)dy = \\int \\frac{\\partial}{\\partial \\eta}p(y;\\eta)dy\\\\\n",
    "E[Y|X;\\theta] = ?\\\\\n",
    "\\end{align}\n",
    "### Prove\n",
    "\\begin{align}\n",
    "\\frac{\\partial}{\\partial \\eta}\\int p(y;\\eta)dy = \\int \\frac{\\partial}{\\partial \\eta}p(y;\\eta)dy = 0\\\\\n",
    "\\int \\frac{\\partial}{\\partial \\eta}(b(y)exp(\\eta y - a(\\eta)))dy = 0\\\\\n",
    "\\int b(y)exp(\\eta y - a(\\eta))(y-a'(\\eta))dy = 0\\\\\n",
    "\\int y(b(y))exp(\\eta y - a(\\eta))dy - \\int a'(\\eta)b(y)exp(\\eta y - a(\\eta))dy = 0\\\\\n",
    "\\int yp(y;\\eta)dy - a'(\\eta)\\int p(y;\\eta)dy = 0\\\\\n",
    "where, \\int yp(y;\\eta)dy = E[y;\\eta]\\\\\n",
    "where, \\int p(y;\\eta)dy = 1\\\\\n",
    "E[y;\\eta] - a'(\\eta) = 0\\\\\n",
    "Thus, E[y;\\eta] = a'(\\eta)\\\\\n",
    "\\end{align}"
   ]
  },
  {
   "cell_type": "markdown",
   "metadata": {},
   "source": [
    "## b. Variation"
   ]
  },
  {
   "cell_type": "markdown",
   "metadata": {},
   "source": [
    "### Problem\n",
    "\\begin{align}\n",
    "Var(Y|X;\\theta) = ?\\\\\n",
    "\\end{align}\n",
    "### Prove\n",
    "\\begin{align}\n",
    "\\int \\frac{\\partial^2}{\\partial^2\\eta} p(y;\\eta)dy = \\frac{\\partial}{\\partial \\eta}(\\int y(b(y))exp(\\eta y - a(\\eta))dy - \\int a'(\\eta)b(y)exp(\\eta y - a(\\eta))dy) = 0\\\\\n",
    "\\int yb(y)exp(\\eta y - a(\\eta))(y-a'(\\eta))dy - \\int a''(\\eta)b(y)exp(\\eta y - a(\\eta))dy - \\int a'(\\eta)b(y)exp(\\eta y - a(\\eta))(y-a'(\\eta))dy = 0\\\\\n",
    "\\int y^{2}b(y)epx(\\eta y - a(\\eta))dy - \\int yb(y)a'(\\eta)exp(\\eta y - a(\\eta))dy - \\int a''(\\eta)b(y)exp(\\eta y - a(\\eta))dy + \\int y a'(\\eta)b(\\eta)exp(\\eta y - a(\\eta))dy - \\int (a'(\\eta))^{2} b(\\eta) exp(\\eta y - a(\\eta))dy = 0\\\\\n",
    "\\int y^{2}p(y|\\eta)dy - a'(\\eta)^2\\int p(y|\\eta)dy - a''(\\eta)\\int p(y|\\eta)dy = 0\\\\\n",
    "where, y^{2}p(y|\\eta)dy = E[y^2;\\eta]\\\\\n",
    "whre, E[y^2;\\eta] - E[y;\\eta] = Var(y;\\eta)\\\\\n",
    "Var(y;\\eta) - a''(\\eta) = 0\\\\\n",
    "Thus, Var(y;\\eta) = a''(\\eta)\\\\\n",
    "\\end{align}"
   ]
  },
  {
   "cell_type": "markdown",
   "metadata": {},
   "source": [
    "## c. Hessian of loss function "
   ]
  },
  {
   "cell_type": "markdown",
   "metadata": {},
   "source": [
    "### Loss function\n",
    "\\begin{align}\n",
    "p(y;\\eta) = b(y)exp(\\eta y - a(\\eta))\\\\\n",
    "l(\\theta) = -\\sum_{i=1}^m log(p(y;\\eta) = -\\sum_{i=1}^m(log(b(y^{(i)})) + y^{(i)}\\theta^T x^{(i)} - a(\\theta^T x^{(i)}))\\\\\n",
    "where, \\eta = \\theta^T x^{(i)}\\\\\n",
    "\\end{align}\n",
    "### Hessian\n",
    "\\begin{align}\n",
    "H_{kl} = \\frac{\\partial l(\\theta)}{\\partial\\theta_k\\partial\\theta_l} = \\sum_{i=1}^m a''(\\theta^T x^{(i)})x_k^{(i)}x_l^{(i)}\\\\\n",
    "\\end{align}\n",
    "### Semi Positive Definite\n",
    "\\begin{align}\n",
    "z^{T}Hz = \\sum_{k=1}^n\\sum_{l=1}^n z_{k}H_{kl}z_{l} = \\sum_{k=1}^n\\sum_{l=1}^n z_k(\\sum_{i=1}^m a''(\\theta^T x^{(i)})x_k^{(i)}x_l^{(i)})z_l = \\sum_{i=1}^m a''(\\theta^T x^{(i)})\\sum_{k=1}^n\\sum_{l=1}^n z_{k}x_{k}^{(i)}x_{l}^{(i)}z_l\\\\\n",
    "where, a''(\\theta^T x^{(i)}) = Var(y|x) \\geq 0\\\\\n",
    "where, \\sum_{k=1}^n\\sum_{l=1}^n z_{k}x_{k}^{(i)}x_{l}^{(i)}z_l = (x^{(i)}z)^2 \\geq 0\\\\\n",
    "Thus, z^{T}Hz \\geq 0\\\\\n",
    "\\end{align}"
   ]
  },
  {
   "cell_type": "markdown",
   "metadata": {},
   "source": [
    "# 5. Locally weighted linear regression"
   ]
  },
  {
   "cell_type": "markdown",
   "metadata": {},
   "source": [
    "## a."
   ]
  },
  {
   "cell_type": "markdown",
   "metadata": {},
   "source": [
    "### Problem\n",
    "\\begin{align}\n",
    "J(\\theta) = \\frac{1}{2}\\sum_{i=1}^m w^{(i)}(\\theta^{T}x^{(i)} - y^{(i)})^2\\\\\n",
    "\\end{align}\n",
    "### i\n",
    "\\begin{align}\n",
    "J(\\theta) = \\sum_{i=1}^m (\\theta^{T}x_{(i)} - y^{(i)})(\\frac{1}{2}w^{(i)})(\\theta^{T}x_{(i)} - y^{(i)}) = \\sum_{i=1}^m (x\\theta - y)_{i}^T(\\frac{1}{2}w^{(i)})(x\\theta - y)_{i}\\\\\n",
    "W_{ij} = \n",
    "\\begin{cases}\n",
    "\\frac{1}{2}w^{(i)} &\\text{if i = j}\\\\\n",
    "0 &\\text{otherwise}\\\\\n",
    "\\end{cases}\\\\\n",
    "J(\\theta) = \\sum_{i,j=1}^m (x\\theta - y)_{i}^T W_{ij}(x\\theta - y)_{j}\\\\\n",
    "J(\\theta) = (X\\theta - y)^T W(X\\theta - y)\\\\\n",
    "\\end{align}\n",
    "### ii\n",
    "\\begin{align}\n",
    "\\frac{\\partial}{\\partial \\theta}J(\\theta) = \\frac{\\partial}{\\partial \\theta}(\\theta^{T}x^{T}WX\\theta - 2\\theta^{T}x^{T}wy+y^TWy) = 2X^TWX\\theta - 2X^TWy\\\\\n",
    "\\frac{\\partial}{\\partial\\theta}(J(\\theta)) = 0\\\\\n",
    "2X^TWX\\theta - 2X^TWy = 0\\\\\n",
    "Thus, \\theta = (X^TWX)^{-1}X^TWy\\\\\n",
    "\\end{align}\n",
    "### iii\n",
    "\\begin{align}\n",
    "l(\\theta) = \\sum_{i=1}^m log(p(y^{(i)}|x^{(i)};\\theta)) = \\sum_{i=1}^m (-log(\\sqrt{2}\\pi) - log(\\sigma^{(i)}) - \\frac{(y^{(i)}-\\theta^Tx^{(i)})^2}{2(\\sigma^{(i)})^2})\\\\\n",
    "J(\\theta) = \\sum_{i=1}^m \\frac{(y^{(i)}-\\theta^Tx^{(i)})^2}{2(\\sigma^{(i)})^2}\\\\\n",
    "Thus, w^{(i)} = \\frac{1}{(\\sigma^{(i)})^2}\\\\\n",
    "\\end{align}"
   ]
  },
  {
   "cell_type": "markdown",
   "metadata": {},
   "source": [
    "## b. Weighted linear regression (coding)"
   ]
  },
  {
   "cell_type": "code",
   "execution_count": 43,
   "metadata": {},
   "outputs": [],
   "source": [
    "class LocallyWeightedLinearRegression:\n",
    "    def __init__(self,tau):\n",
    "        super(LocallyWeightedLinearRegression,self).__init__()\n",
    "        self.tau = tau\n",
    "        self.x = None\n",
    "        self.y = None\n",
    "    \n",
    "    def fit(self,x,y):\n",
    "        self.x = x\n",
    "        self.y = y\n",
    "    \n",
    "    def predict(self,x):\n",
    "        m,n = x.shape\n",
    "        g = lambda x: np.exp(-x**2/(2*self.tau**2))\n",
    "        w = g(np.linalg.norm(self.x[None] - x[:,None],axis=2))\n",
    "        y_pred = np.zeros(m)\n",
    "        for i,W in enumerate(w):\n",
    "            W = np.diag(W)\n",
    "            theta = np.linalg.inv(self.x.T.dot(W).dot(self.x)).dot(self.x.T).dot(W).dot(self.y)\n",
    "            y_pred[i] = x[i].dot(theta)\n",
    "        return y_pred\n",
    "        "
   ]
  },
  {
   "cell_type": "code",
   "execution_count": 44,
   "metadata": {},
   "outputs": [],
   "source": [
    "train_pr5 = 'data/ds5_train.csv'\n",
    "valid_pr5 = 'data/ds5_valid.csv'\n",
    "test_pr5 = 'data/ds5_test.csv'"
   ]
  },
  {
   "cell_type": "code",
   "execution_count": 45,
   "metadata": {},
   "outputs": [],
   "source": [
    "x_train_pr5,y_train_pr5 = openData(train_pr5,intercept=True,prb='5')\n",
    "x_val_pr5,y_val_pr5 = openData(valid_pr5,intercept=True,prb='5')\n",
    "x_test_pr5,y_test_pr5 = openData(test_pr5,intercept=True,prb='5')"
   ]
  },
  {
   "cell_type": "code",
   "execution_count": 46,
   "metadata": {},
   "outputs": [],
   "source": [
    "modelLW = LocallyWeightedLinearRegression(0.5)\n",
    "modelLW.fit(x_train_pr5,y_train_pr5)"
   ]
  },
  {
   "cell_type": "code",
   "execution_count": 47,
   "metadata": {},
   "outputs": [],
   "source": [
    "y_pred = modelLW.predict(x_val_pr5)"
   ]
  },
  {
   "cell_type": "code",
   "execution_count": 48,
   "metadata": {},
   "outputs": [
    {
     "name": "stdout",
     "output_type": "stream",
     "text": [
      "Error of problem5 is 0.33053126821375256\n"
     ]
    }
   ],
   "source": [
    "error = ((y_pred-y_val_pr5)**2).mean()\n",
    "print(\"Error of problem5 is {}\".format(error))"
   ]
  },
  {
   "cell_type": "code",
   "execution_count": 49,
   "metadata": {},
   "outputs": [
    {
     "data": {
      "text/plain": [
       "[<matplotlib.lines.Line2D at 0x207047a3948>,\n",
       " <matplotlib.lines.Line2D at 0x20704787dc8>]"
      ]
     },
     "execution_count": 49,
     "metadata": {},
     "output_type": "execute_result"
    },
    {
     "data": {
      "image/png": "[encoded data removed]",
      "text/plain": [
       "<Figure size 432x288 with 1 Axes>"
      ]
     },
     "metadata": {
      "needs_background": "light"
     },
     "output_type": "display_data"
    }
   ],
   "source": [
    "plt.figure()\n",
    "plt.plot(x_train_pr5,y_train_pr5,'bx')\n",
    "plt.plot(x_val_pr5,y_val_pr5,'ro')"
   ]
  },
  {
   "cell_type": "markdown",
   "metadata": {},
   "source": [
    "## c. Different tau"
   ]
  },
  {
   "cell_type": "code",
   "execution_count": 50,
   "metadata": {},
   "outputs": [],
   "source": [
    "tau_values=[3e-2, 5e-2, 1e-1, 5e-1, 1e0, 1e1]"
   ]
  },
  {
   "cell_type": "code",
   "execution_count": 53,
   "metadata": {},
   "outputs": [
    {
     "name": "stdout",
     "output_type": "stream",
     "text": [
      "tau: 0.05, mse: 0.012400076150469373\n",
      "test mse: 0.8889410764429647\n"
     ]
    },
    {
     "data": {
      "image/png": "[encoded data removed]",
      "text/plain": [
       "<Figure size 432x288 with 1 Axes>"
      ]
     },
     "metadata": {
      "needs_background": "light"
     },
     "output_type": "display_data"
    },
    {
     "data": {
      "image/png": "[encoded data removed]",
      "text/plain": [
       "<Figure size 432x288 with 1 Axes>"
      ]
     },
     "metadata": {
      "needs_background": "light"
     },
     "output_type": "display_data"
    },
    {
     "data": {
      "image/png": "[encoded data removed]",
      "text/plain": [
       "<Figure size 432x288 with 1 Axes>"
      ]
     },
     "metadata": {
      "needs_background": "light"
     },
     "output_type": "display_data"
    },
    {
     "data": {
      "image/png": "[encoded data removed]",
      "text/plain": [
       "<Figure size 432x288 with 1 Axes>"
      ]
     },
     "metadata": {
      "needs_background": "light"
     },
     "output_type": "display_data"
    },
    {
     "data": {
      "image/png": "[encoded data removed]",
      "text/plain": [
       "<Figure size 432x288 with 1 Axes>"
      ]
     },
     "metadata": {
      "needs_background": "light"
     },
     "output_type": "display_data"
    },
    {
     "data": {
      "image/png": "[encoded data removed]",
      "text/plain": [
       "<Figure size 432x288 with 1 Axes>"
      ]
     },
     "metadata": {
      "needs_background": "light"
     },
     "output_type": "display_data"
    }
   ],
   "source": [
    "best_tau = None\n",
    "best_mse = None\n",
    "for tau in tau_values:\n",
    "    model_tau = LocallyWeightedLinearRegression(tau)\n",
    "    model_tau.fit(x_train_pr5,y_train_pr5)\n",
    "    y_pred = model_tau.predict(x_val_pr5)\n",
    "    error = mse(y_pred, y_val_pr5)\n",
    "    plt.figure()\n",
    "    plt.title('$tau = {}$'.format(tau))\n",
    "    plt.plot(x_train_pr5, y_train_pr5, 'bx')\n",
    "    plt.plot(x_val_pr5, y_pred, 'ro')\n",
    "    if best_mse :\n",
    "        if error < best_mse:\n",
    "            best_mse = error\n",
    "            best_tau = tau\n",
    "    else:\n",
    "        best_mse = error\n",
    "        best_tau = tau\n",
    "        \n",
    "print('tau: {}, mse: {}'.format(best_tau, best_mse))\n",
    "model_tauB = LocallyWeightedLinearRegression(best_tau)\n",
    "model_tauB.fit(x_train_pr5, y_train_pr5)\n",
    "# Run on the test set to get the MSE value\n",
    "y_pred = model_tauB.predict(x_test_pr5)\n",
    "error = ((y_val_pr5 - y_pred) ** 2).mean()\n",
    "print('test mse: {}'.format(error))"
   ]
  }
 ],
 "metadata": {
  "kernelspec": {
   "display_name": "Python 3",
   "language": "python",
   "name": "python3"
  },
  "language_info": {
   "codemirror_mode": {
    "name": "ipython",
    "version": 3
   },
   "file_extension": ".py",
   "mimetype": "text/x-python",
   "name": "python",
   "nbconvert_exporter": "python",
   "pygments_lexer": "ipython3",
   "version": "3.7.4"
  }
 },
 "nbformat": 4,
 "nbformat_minor": 2
}
